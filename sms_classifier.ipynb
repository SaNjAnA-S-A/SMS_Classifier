{
  "cells": [
    {
      "cell_type": "code",
      "execution_count": null,
      "metadata": {
        "id": "wQ7T87ImDgXn"
      },
      "outputs": [],
      "source": [
        "import pandas as pd\n",
        "import numpy as np\n",
        "from nltk.tokenize import word_tokenize\n",
        "from nltk import pos_tag\n",
        "from nltk.corpus import stopwords\n",
        "from nltk.stem import WordNetLemmatizer\n",
        "from sklearn.preprocessing import LabelEncoder\n",
        "from collections import defaultdict\n",
        "from nltk.corpus import wordnet as wn\n",
        "from sklearn.feature_extraction.text import TfidfVectorizer\n",
        "from sklearn import model_selection, naive_bayes, svm\n",
        "from sklearn.metrics import accuracy_score\n",
        "import os"
      ]
    },
    {
      "cell_type": "code",
      "execution_count": null,
      "metadata": {
        "id": "0oaR4m8mDgXs"
      },
      "outputs": [],
      "source": [
        "Sh= pd.read_csv(\"sms_manual.csv\")"
      ]
    },
    {
      "cell_type": "code",
      "execution_count": null,
      "metadata": {
        "id": "58GLF7EmDgX4",
        "outputId": "418512fa-b8f3-4818-feee-b6b26f7ce784"
      },
      "outputs": [
        {
          "data": {
            "text/html": [
              "<div>\n",
              "<style scoped>\n",
              "    .dataframe tbody tr th:only-of-type {\n",
              "        vertical-align: middle;\n",
              "    }\n",
              "\n",
              "    .dataframe tbody tr th {\n",
              "        vertical-align: top;\n",
              "    }\n",
              "\n",
              "    .dataframe thead th {\n",
              "        text-align: right;\n",
              "    }\n",
              "</style>\n",
              "<table border=\"1\" class=\"dataframe\">\n",
              "  <thead>\n",
              "    <tr style=\"text-align: right;\">\n",
              "      <th></th>\n",
              "      <th>Unnamed: 0</th>\n",
              "      <th>_protocol</th>\n",
              "      <th>_address</th>\n",
              "      <th>_date</th>\n",
              "      <th>_type</th>\n",
              "      <th>_subject</th>\n",
              "      <th>_toa</th>\n",
              "      <th>_sc_toa</th>\n",
              "      <th>_service_center</th>\n",
              "      <th>_read</th>\n",
              "      <th>...</th>\n",
              "      <th>_date_sent</th>\n",
              "      <th>_sub_id</th>\n",
              "      <th>_readable_date</th>\n",
              "      <th>_contact_name</th>\n",
              "      <th>length</th>\n",
              "      <th>text</th>\n",
              "      <th>label</th>\n",
              "      <th>financial</th>\n",
              "      <th>important</th>\n",
              "      <th>spam</th>\n",
              "    </tr>\n",
              "  </thead>\n",
              "  <tbody>\n",
              "    <tr>\n",
              "      <th>0</th>\n",
              "      <td>0</td>\n",
              "      <td>0</td>\n",
              "      <td>+918310733183</td>\n",
              "      <td>1509032968509</td>\n",
              "      <td>1</td>\n",
              "      <td>NaN</td>\n",
              "      <td>NaN</td>\n",
              "      <td>NaN</td>\n",
              "      <td>9.198451e+11</td>\n",
              "      <td>1</td>\n",
              "      <td>...</td>\n",
              "      <td>1509032964000</td>\n",
              "      <td>1</td>\n",
              "      <td>Oct 26, 2017 9:19:28 PM</td>\n",
              "      <td>Chimya</td>\n",
              "      <td>146</td>\n",
              "      <td>You 1 missed call   918310733183 Last call  26...</td>\n",
              "      <td>others</td>\n",
              "      <td>0</td>\n",
              "      <td>0</td>\n",
              "      <td>0</td>\n",
              "    </tr>\n",
              "    <tr>\n",
              "      <th>1</th>\n",
              "      <td>1</td>\n",
              "      <td>0</td>\n",
              "      <td>59039004</td>\n",
              "      <td>1509034252105</td>\n",
              "      <td>1</td>\n",
              "      <td>NaN</td>\n",
              "      <td>NaN</td>\n",
              "      <td>NaN</td>\n",
              "      <td>9.182999e+11</td>\n",
              "      <td>1</td>\n",
              "      <td>...</td>\n",
              "      <td>1509034247000</td>\n",
              "      <td>1</td>\n",
              "      <td>Oct 26, 2017 9:40:52 PM</td>\n",
              "      <td>(Unknown)</td>\n",
              "      <td>99</td>\n",
              "      <td>WhatsApp code 397564  You also tap link verify...</td>\n",
              "      <td>important</td>\n",
              "      <td>0</td>\n",
              "      <td>1</td>\n",
              "      <td>0</td>\n",
              "    </tr>\n",
              "    <tr>\n",
              "      <th>2</th>\n",
              "      <td>2</td>\n",
              "      <td>59</td>\n",
              "      <td>Airtel</td>\n",
              "      <td>1509037408272</td>\n",
              "      <td>1</td>\n",
              "      <td>NaN</td>\n",
              "      <td>NaN</td>\n",
              "      <td>NaN</td>\n",
              "      <td>9.198451e+11</td>\n",
              "      <td>1</td>\n",
              "      <td>...</td>\n",
              "      <td>1509037401000</td>\n",
              "      <td>1</td>\n",
              "      <td>Oct 26, 2017 10:33:28 PM</td>\n",
              "      <td>(Unknown)</td>\n",
              "      <td>190</td>\n",
              "      <td>Please open following link get manual instruct...</td>\n",
              "      <td>spam</td>\n",
              "      <td>0</td>\n",
              "      <td>0</td>\n",
              "      <td>1</td>\n",
              "    </tr>\n",
              "    <tr>\n",
              "      <th>3</th>\n",
              "      <td>3</td>\n",
              "      <td>59</td>\n",
              "      <td>Airtel</td>\n",
              "      <td>1509037425141</td>\n",
              "      <td>1</td>\n",
              "      <td>NaN</td>\n",
              "      <td>NaN</td>\n",
              "      <td>NaN</td>\n",
              "      <td>9.198451e+11</td>\n",
              "      <td>1</td>\n",
              "      <td>...</td>\n",
              "      <td>1509037402000</td>\n",
              "      <td>1</td>\n",
              "      <td>Oct 26, 2017 10:33:45 PM</td>\n",
              "      <td>(Unknown)</td>\n",
              "      <td>334</td>\n",
              "      <td>To enjoy fastest Airtel data speeds smartphone...</td>\n",
              "      <td>important</td>\n",
              "      <td>1</td>\n",
              "      <td>1</td>\n",
              "      <td>0</td>\n",
              "    </tr>\n",
              "    <tr>\n",
              "      <th>4</th>\n",
              "      <td>4</td>\n",
              "      <td>0</td>\n",
              "      <td>AX-RECHRG</td>\n",
              "      <td>1509065238723</td>\n",
              "      <td>1</td>\n",
              "      <td>NaN</td>\n",
              "      <td>NaN</td>\n",
              "      <td>NaN</td>\n",
              "      <td>9.198451e+11</td>\n",
              "      <td>1</td>\n",
              "      <td>...</td>\n",
              "      <td>1509065233000</td>\n",
              "      <td>1</td>\n",
              "      <td>Oct 27, 2017 6:17:18 AM</td>\n",
              "      <td>(Unknown)</td>\n",
              "      <td>155</td>\n",
              "      <td>Congrats new 4G handset  Exclusive offer Rs399...</td>\n",
              "      <td>spam</td>\n",
              "      <td>1</td>\n",
              "      <td>0</td>\n",
              "      <td>1</td>\n",
              "    </tr>\n",
              "  </tbody>\n",
              "</table>\n",
              "<p>5 rows × 22 columns</p>\n",
              "</div>"
            ],
            "text/plain": [
              "   Unnamed: 0  _protocol       _address          _date  _type  _subject  _toa  \\\n",
              "0           0          0  +918310733183  1509032968509      1       NaN   NaN   \n",
              "1           1          0       59039004  1509034252105      1       NaN   NaN   \n",
              "2           2         59         Airtel  1509037408272      1       NaN   NaN   \n",
              "3           3         59         Airtel  1509037425141      1       NaN   NaN   \n",
              "4           4          0      AX-RECHRG  1509065238723      1       NaN   NaN   \n",
              "\n",
              "   _sc_toa  _service_center  _read  ...     _date_sent  _sub_id  \\\n",
              "0      NaN     9.198451e+11      1  ...  1509032964000        1   \n",
              "1      NaN     9.182999e+11      1  ...  1509034247000        1   \n",
              "2      NaN     9.198451e+11      1  ...  1509037401000        1   \n",
              "3      NaN     9.198451e+11      1  ...  1509037402000        1   \n",
              "4      NaN     9.198451e+11      1  ...  1509065233000        1   \n",
              "\n",
              "             _readable_date  _contact_name length  \\\n",
              "0   Oct 26, 2017 9:19:28 PM         Chimya    146   \n",
              "1   Oct 26, 2017 9:40:52 PM      (Unknown)     99   \n",
              "2  Oct 26, 2017 10:33:28 PM      (Unknown)    190   \n",
              "3  Oct 26, 2017 10:33:45 PM      (Unknown)    334   \n",
              "4   Oct 27, 2017 6:17:18 AM      (Unknown)    155   \n",
              "\n",
              "                                                text      label financial  \\\n",
              "0  You 1 missed call   918310733183 Last call  26...     others         0   \n",
              "1  WhatsApp code 397564  You also tap link verify...  important         0   \n",
              "2  Please open following link get manual instruct...       spam         0   \n",
              "3  To enjoy fastest Airtel data speeds smartphone...  important         1   \n",
              "4  Congrats new 4G handset  Exclusive offer Rs399...       spam         1   \n",
              "\n",
              "  important  spam  \n",
              "0         0     0  \n",
              "1         1     0  \n",
              "2         0     1  \n",
              "3         1     0  \n",
              "4         0     1  \n",
              "\n",
              "[5 rows x 22 columns]"
            ]
          },
          "execution_count": 3,
          "metadata": {},
          "output_type": "execute_result"
        }
      ],
      "source": [
        "Sh.head()"
      ]
    },
    {
      "cell_type": "code",
      "execution_count": null,
      "metadata": {
        "id": "vc9A_XRMDgYE"
      },
      "outputs": [],
      "source": [
        "df3=Sh[[\"label\",\"text\"]]"
      ]
    },
    {
      "cell_type": "code",
      "execution_count": null,
      "metadata": {
        "id": "wPWqyHb8DgYF"
      },
      "outputs": [],
      "source": [
        "category_codes = {\n",
        "    'financial': 0,\n",
        "    'important': 1,\n",
        "    'spam': 2,\n",
        "    'others':3,\n",
        "}"
      ]
    },
    {
      "cell_type": "code",
      "execution_count": null,
      "metadata": {
        "id": "Uz9oMvW1DgYF",
        "outputId": "1dd96d21-3798-4b85-a463-e25ff5ee5b2c"
      },
      "outputs": [
        {
          "name": "stderr",
          "output_type": "stream",
          "text": [
            "C:\\Users\\Sanjana Ashtaputre\\Anaconda3\\lib\\site-packages\\ipykernel_launcher.py:1: SettingWithCopyWarning: \n",
            "A value is trying to be set on a copy of a slice from a DataFrame.\n",
            "Try using .loc[row_indexer,col_indexer] = value instead\n",
            "\n",
            "See the caveats in the documentation: http://pandas.pydata.org/pandas-docs/stable/indexing.html#indexing-view-versus-copy\n",
            "  \"\"\"Entry point for launching an IPython kernel.\n"
          ]
        }
      ],
      "source": [
        "df3['Category_Code'] = df3['label']\n",
        "df3 = df3.replace({'Category_Code':category_codes})"
      ]
    },
    {
      "cell_type": "code",
      "execution_count": null,
      "metadata": {
        "id": "cUF6PsKsDgYF",
        "outputId": "796f5f5a-c8fa-4e4f-e7c2-0d0e9f0cdd73"
      },
      "outputs": [
        {
          "data": {
            "text/html": [
              "<div>\n",
              "<style scoped>\n",
              "    .dataframe tbody tr th:only-of-type {\n",
              "        vertical-align: middle;\n",
              "    }\n",
              "\n",
              "    .dataframe tbody tr th {\n",
              "        vertical-align: top;\n",
              "    }\n",
              "\n",
              "    .dataframe thead th {\n",
              "        text-align: right;\n",
              "    }\n",
              "</style>\n",
              "<table border=\"1\" class=\"dataframe\">\n",
              "  <thead>\n",
              "    <tr style=\"text-align: right;\">\n",
              "      <th></th>\n",
              "      <th>label</th>\n",
              "      <th>text</th>\n",
              "      <th>Category_Code</th>\n",
              "    </tr>\n",
              "  </thead>\n",
              "  <tbody>\n",
              "    <tr>\n",
              "      <th>0</th>\n",
              "      <td>others</td>\n",
              "      <td>You 1 missed call   918310733183 Last call  26...</td>\n",
              "      <td>3</td>\n",
              "    </tr>\n",
              "    <tr>\n",
              "      <th>1</th>\n",
              "      <td>important</td>\n",
              "      <td>WhatsApp code 397564  You also tap link verify...</td>\n",
              "      <td>1</td>\n",
              "    </tr>\n",
              "    <tr>\n",
              "      <th>2</th>\n",
              "      <td>spam</td>\n",
              "      <td>Please open following link get manual instruct...</td>\n",
              "      <td>2</td>\n",
              "    </tr>\n",
              "    <tr>\n",
              "      <th>3</th>\n",
              "      <td>important</td>\n",
              "      <td>To enjoy fastest Airtel data speeds smartphone...</td>\n",
              "      <td>1</td>\n",
              "    </tr>\n",
              "    <tr>\n",
              "      <th>4</th>\n",
              "      <td>spam</td>\n",
              "      <td>Congrats new 4G handset  Exclusive offer Rs399...</td>\n",
              "      <td>2</td>\n",
              "    </tr>\n",
              "    <tr>\n",
              "      <th>5</th>\n",
              "      <td>others</td>\n",
              "      <td>Enjoy double delight  Get double occupancy roo...</td>\n",
              "      <td>3</td>\n",
              "    </tr>\n",
              "    <tr>\n",
              "      <th>6</th>\n",
              "      <td>important</td>\n",
              "      <td>Your Google verification code 743610</td>\n",
              "      <td>1</td>\n",
              "    </tr>\n",
              "    <tr>\n",
              "      <th>7</th>\n",
              "      <td>important</td>\n",
              "      <td>46322 one time password proceed PhonePe  It va...</td>\n",
              "      <td>1</td>\n",
              "    </tr>\n",
              "    <tr>\n",
              "      <th>8</th>\n",
              "      <td>important</td>\n",
              "      <td>Your One Time Password  OTP  Syndicate Bank on...</td>\n",
              "      <td>1</td>\n",
              "    </tr>\n",
              "    <tr>\n",
              "      <th>9</th>\n",
              "      <td>financial</td>\n",
              "      <td>You ve received Rs50 cashback PhonePe wallet f...</td>\n",
              "      <td>0</td>\n",
              "    </tr>\n",
              "    <tr>\n",
              "      <th>10</th>\n",
              "      <td>financial</td>\n",
              "      <td>Recharge Rs50 Airtel Mobile  9945369054  via P...</td>\n",
              "      <td>0</td>\n",
              "    </tr>\n",
              "    <tr>\n",
              "      <th>11</th>\n",
              "      <td>financial</td>\n",
              "      <td>Recharge done 27102017 0659PM  MRP  Rs5000  PF...</td>\n",
              "      <td>0</td>\n",
              "    </tr>\n",
              "    <tr>\n",
              "      <th>12</th>\n",
              "      <td>spam</td>\n",
              "      <td>Benefit  Talktime 3937 main account  Dial 123 ...</td>\n",
              "      <td>2</td>\n",
              "    </tr>\n",
              "    <tr>\n",
              "      <th>13</th>\n",
              "      <td>financial</td>\n",
              "      <td>PHONEPESMSVERIFY 6271d77f72d575eedddaa7a9b4abc...</td>\n",
              "      <td>0</td>\n",
              "    </tr>\n",
              "    <tr>\n",
              "      <th>14</th>\n",
              "      <td>financial</td>\n",
              "      <td>Dear shreyas kulkarni  You successfully regist...</td>\n",
              "      <td>0</td>\n",
              "    </tr>\n",
              "    <tr>\n",
              "      <th>15</th>\n",
              "      <td>important</td>\n",
              "      <td>933946 otp syndicate upi transaction</td>\n",
              "      <td>1</td>\n",
              "    </tr>\n",
              "    <tr>\n",
              "      <th>16</th>\n",
              "      <td>financial</td>\n",
              "      <td>Your ac noXXXXXXXX055690 registered Syndicate ...</td>\n",
              "      <td>0</td>\n",
              "    </tr>\n",
              "    <tr>\n",
              "      <th>17</th>\n",
              "      <td>financial</td>\n",
              "      <td>SYN INR 5000 debited AC No  5690 27102017 1858...</td>\n",
              "      <td>0</td>\n",
              "    </tr>\n",
              "    <tr>\n",
              "      <th>18</th>\n",
              "      <td>financial</td>\n",
              "      <td>You ve sent Rs150 shashidhar reddy via PhonePe...</td>\n",
              "      <td>0</td>\n",
              "    </tr>\n",
              "    <tr>\n",
              "      <th>19</th>\n",
              "      <td>financial</td>\n",
              "      <td>You ve received Rs75 cashback PhonePe wallet 5...</td>\n",
              "      <td>0</td>\n",
              "    </tr>\n",
              "    <tr>\n",
              "      <th>20</th>\n",
              "      <td>financial</td>\n",
              "      <td>Your 9945369054  ybl linked ac noXXXXXXXX05569...</td>\n",
              "      <td>0</td>\n",
              "    </tr>\n",
              "    <tr>\n",
              "      <th>21</th>\n",
              "      <td>financial</td>\n",
              "      <td>Your Ac XXX5690 debited INR 15000 27OCT2017 07...</td>\n",
              "      <td>0</td>\n",
              "    </tr>\n",
              "    <tr>\n",
              "      <th>22</th>\n",
              "      <td>financial</td>\n",
              "      <td>Your Ac XXX5690 credited INR 15000 27OCT2017 0...</td>\n",
              "      <td>0</td>\n",
              "    </tr>\n",
              "    <tr>\n",
              "      <th>23</th>\n",
              "      <td>financial</td>\n",
              "      <td>You ve received Rs150 shashidhar reddy via Pho...</td>\n",
              "      <td>0</td>\n",
              "    </tr>\n",
              "    <tr>\n",
              "      <th>24</th>\n",
              "      <td>financial</td>\n",
              "      <td>UPIACT 7771025434799747</td>\n",
              "      <td>0</td>\n",
              "    </tr>\n",
              "    <tr>\n",
              "      <th>25</th>\n",
              "      <td>financial</td>\n",
              "      <td>Your Ac XXX5690 credited INR 5100 27OCT2017 07...</td>\n",
              "      <td>0</td>\n",
              "    </tr>\n",
              "    <tr>\n",
              "      <th>26</th>\n",
              "      <td>financial</td>\n",
              "      <td>Rs 5100 credited account XXXXX5690 SYNB linked...</td>\n",
              "      <td>0</td>\n",
              "    </tr>\n",
              "    <tr>\n",
              "      <th>27</th>\n",
              "      <td>financial</td>\n",
              "      <td>Your shreyassk987  okaxis linked ac noXXXXXXXX...</td>\n",
              "      <td>0</td>\n",
              "    </tr>\n",
              "    <tr>\n",
              "      <th>28</th>\n",
              "      <td>financial</td>\n",
              "      <td>Your 9945369054  ybl linked ac noXXXXXXXX05569...</td>\n",
              "      <td>0</td>\n",
              "    </tr>\n",
              "    <tr>\n",
              "      <th>29</th>\n",
              "      <td>financial</td>\n",
              "      <td>Your shreyassk987  okaxis linked ac noXXXXXXXX...</td>\n",
              "      <td>0</td>\n",
              "    </tr>\n",
              "    <tr>\n",
              "      <th>...</th>\n",
              "      <td>...</td>\n",
              "      <td>...</td>\n",
              "      <td>...</td>\n",
              "    </tr>\n",
              "    <tr>\n",
              "      <th>7834</th>\n",
              "      <td>others</td>\n",
              "      <td>ನಿಮ್ಮ ಜಿಯೊ ಸಂಖ್ಯೆ 6361924355 ಯ ಮೇಲಿರುವ ಯೋಜನೆ...</td>\n",
              "      <td>3</td>\n",
              "    </tr>\n",
              "    <tr>\n",
              "      <th>7835</th>\n",
              "      <td>others</td>\n",
              "      <td>ನಿಮ್ಮ ಜಿಯೊ ಸಂಖ್ಯೆ 6361924355 ಯ ಮೇಲಿರುವ ನಿಮ್ಮ ಯ...</td>\n",
              "      <td>3</td>\n",
              "    </tr>\n",
              "    <tr>\n",
              "      <th>7836</th>\n",
              "      <td>financial</td>\n",
              "      <td>Your Ac XX5690 debited INR 1100 21102019 10224...</td>\n",
              "      <td>0</td>\n",
              "    </tr>\n",
              "    <tr>\n",
              "      <th>7837</th>\n",
              "      <td>financial</td>\n",
              "      <td>9945369054  paytm linked ac XXXXXXXX055690 deb...</td>\n",
              "      <td>0</td>\n",
              "    </tr>\n",
              "    <tr>\n",
              "      <th>7838</th>\n",
              "      <td>financial</td>\n",
              "      <td>Your plan Jio 6361924355 expire 23102019  Rech...</td>\n",
              "      <td>0</td>\n",
              "    </tr>\n",
              "    <tr>\n",
              "      <th>7839</th>\n",
              "      <td>others</td>\n",
              "      <td>Dear  4NI17IS076 monthly Attendance 20192020  ...</td>\n",
              "      <td>3</td>\n",
              "    </tr>\n",
              "    <tr>\n",
              "      <th>7840</th>\n",
              "      <td>financial</td>\n",
              "      <td>SHREYAS KULKARNI Your application Scholarship ...</td>\n",
              "      <td>0</td>\n",
              "    </tr>\n",
              "    <tr>\n",
              "      <th>7841</th>\n",
              "      <td>others</td>\n",
              "      <td>ಈ ದೀಪಾವಳಿಯನ್ನು ವಿಭಿನ್ನಗೊಳಿಸಿ  ಕೇವಲ ಸಿಹಿತಿಂಡಿಗಳ...</td>\n",
              "      <td>3</td>\n",
              "    </tr>\n",
              "    <tr>\n",
              "      <th>7842</th>\n",
              "      <td>financial</td>\n",
              "      <td>Medlife Super Saver test  Rs630 63 Tests  Just...</td>\n",
              "      <td>0</td>\n",
              "    </tr>\n",
              "    <tr>\n",
              "      <th>7843</th>\n",
              "      <td>financial</td>\n",
              "      <td>Your Ac XX5690 debited INR 1600 21102019 06194...</td>\n",
              "      <td>0</td>\n",
              "    </tr>\n",
              "    <tr>\n",
              "      <th>7844</th>\n",
              "      <td>financial</td>\n",
              "      <td>9945369054  paytm linked ac XXXXXXXX055690 deb...</td>\n",
              "      <td>0</td>\n",
              "    </tr>\n",
              "    <tr>\n",
              "      <th>7845</th>\n",
              "      <td>financial</td>\n",
              "      <td>Recharge Airtel Unlimited Pack Expiry get Extr...</td>\n",
              "      <td>0</td>\n",
              "    </tr>\n",
              "    <tr>\n",
              "      <th>7846</th>\n",
              "      <td>financial</td>\n",
              "      <td>Recharge Rs498 Rs10 IUC Topup  get upto Rs85 A...</td>\n",
              "      <td>0</td>\n",
              "    </tr>\n",
              "    <tr>\n",
              "      <th>7847</th>\n",
              "      <td>financial</td>\n",
              "      <td>Your Ac XX5690 debited INR 7300 21102019 09290...</td>\n",
              "      <td>0</td>\n",
              "    </tr>\n",
              "    <tr>\n",
              "      <th>7848</th>\n",
              "      <td>financial</td>\n",
              "      <td>Your Ac XX5690 credited INR 3300 21102019 0929...</td>\n",
              "      <td>0</td>\n",
              "    </tr>\n",
              "    <tr>\n",
              "      <th>7849</th>\n",
              "      <td>financial</td>\n",
              "      <td>9945369054  ybl linked ac XXXXXXXX055690 credi...</td>\n",
              "      <td>0</td>\n",
              "    </tr>\n",
              "    <tr>\n",
              "      <th>7850</th>\n",
              "      <td>financial</td>\n",
              "      <td>9945369054  paytm linked ac XXXXXXXX055690 deb...</td>\n",
              "      <td>0</td>\n",
              "    </tr>\n",
              "    <tr>\n",
              "      <th>7851</th>\n",
              "      <td>financial</td>\n",
              "      <td>Paid Rs  73 Kasturi juice Center Oct 21  2019 ...</td>\n",
              "      <td>0</td>\n",
              "    </tr>\n",
              "    <tr>\n",
              "      <th>7852</th>\n",
              "      <td>financial</td>\n",
              "      <td>Your Ac XX5690 debited INR 3000 21102019 10153...</td>\n",
              "      <td>0</td>\n",
              "    </tr>\n",
              "    <tr>\n",
              "      <th>7853</th>\n",
              "      <td>financial</td>\n",
              "      <td>9945369054  paytm linked ac XXXXXXXX055690 deb...</td>\n",
              "      <td>0</td>\n",
              "    </tr>\n",
              "    <tr>\n",
              "      <th>7854</th>\n",
              "      <td>financial</td>\n",
              "      <td>Paid Rs  30 HM Enterprises Oct 21  2019 221829...</td>\n",
              "      <td>0</td>\n",
              "    </tr>\n",
              "    <tr>\n",
              "      <th>7855</th>\n",
              "      <td>financial</td>\n",
              "      <td>Paid Rs  30 HM Enterprises Oct 22  2019 001012...</td>\n",
              "      <td>0</td>\n",
              "    </tr>\n",
              "    <tr>\n",
              "      <th>7856</th>\n",
              "      <td>financial</td>\n",
              "      <td>Your Ac XX5690 debited INR 3000 22102019 12080...</td>\n",
              "      <td>0</td>\n",
              "    </tr>\n",
              "    <tr>\n",
              "      <th>7857</th>\n",
              "      <td>financial</td>\n",
              "      <td>9945369054  paytm linked ac XXXXXXXX055690 deb...</td>\n",
              "      <td>0</td>\n",
              "    </tr>\n",
              "    <tr>\n",
              "      <th>7858</th>\n",
              "      <td>others</td>\n",
              "      <td>Dear  4NI17IS076 I Test Marks 20192020 ODDsem ...</td>\n",
              "      <td>3</td>\n",
              "    </tr>\n",
              "    <tr>\n",
              "      <th>7859</th>\n",
              "      <td>others</td>\n",
              "      <td>ನಿಮ್ಮ ಜಿಯೊ ಸಂಖ್ಯೆ 6361924355 ಯ ಮೇಲಿರುವ ಯೋಜನೆ...</td>\n",
              "      <td>3</td>\n",
              "    </tr>\n",
              "    <tr>\n",
              "      <th>7860</th>\n",
              "      <td>financial</td>\n",
              "      <td>Be extra careful  verify credentials person as...</td>\n",
              "      <td>0</td>\n",
              "    </tr>\n",
              "    <tr>\n",
              "      <th>7861</th>\n",
              "      <td>financial</td>\n",
              "      <td>Your plan Jio 6361924355 expire 23102019  Rech...</td>\n",
              "      <td>0</td>\n",
              "    </tr>\n",
              "    <tr>\n",
              "      <th>7862</th>\n",
              "      <td>important</td>\n",
              "      <td>VOGO rides got lighter pockets  Apply code VOG...</td>\n",
              "      <td>1</td>\n",
              "    </tr>\n",
              "    <tr>\n",
              "      <th>7863</th>\n",
              "      <td>financial</td>\n",
              "      <td>Recharge Truly Unlimited Pack get Free calls n...</td>\n",
              "      <td>0</td>\n",
              "    </tr>\n",
              "  </tbody>\n",
              "</table>\n",
              "<p>7864 rows × 3 columns</p>\n",
              "</div>"
            ],
            "text/plain": [
              "          label                                               text  \\\n",
              "0        others  You 1 missed call   918310733183 Last call  26...   \n",
              "1     important  WhatsApp code 397564  You also tap link verify...   \n",
              "2          spam  Please open following link get manual instruct...   \n",
              "3     important  To enjoy fastest Airtel data speeds smartphone...   \n",
              "4          spam  Congrats new 4G handset  Exclusive offer Rs399...   \n",
              "5        others  Enjoy double delight  Get double occupancy roo...   \n",
              "6     important               Your Google verification code 743610   \n",
              "7     important  46322 one time password proceed PhonePe  It va...   \n",
              "8     important  Your One Time Password  OTP  Syndicate Bank on...   \n",
              "9     financial  You ve received Rs50 cashback PhonePe wallet f...   \n",
              "10    financial  Recharge Rs50 Airtel Mobile  9945369054  via P...   \n",
              "11    financial  Recharge done 27102017 0659PM  MRP  Rs5000  PF...   \n",
              "12         spam  Benefit  Talktime 3937 main account  Dial 123 ...   \n",
              "13    financial  PHONEPESMSVERIFY 6271d77f72d575eedddaa7a9b4abc...   \n",
              "14    financial  Dear shreyas kulkarni  You successfully regist...   \n",
              "15    important               933946 otp syndicate upi transaction   \n",
              "16    financial  Your ac noXXXXXXXX055690 registered Syndicate ...   \n",
              "17    financial  SYN INR 5000 debited AC No  5690 27102017 1858...   \n",
              "18    financial  You ve sent Rs150 shashidhar reddy via PhonePe...   \n",
              "19    financial  You ve received Rs75 cashback PhonePe wallet 5...   \n",
              "20    financial  Your 9945369054  ybl linked ac noXXXXXXXX05569...   \n",
              "21    financial  Your Ac XXX5690 debited INR 15000 27OCT2017 07...   \n",
              "22    financial  Your Ac XXX5690 credited INR 15000 27OCT2017 0...   \n",
              "23    financial  You ve received Rs150 shashidhar reddy via Pho...   \n",
              "24    financial                            UPIACT 7771025434799747   \n",
              "25    financial  Your Ac XXX5690 credited INR 5100 27OCT2017 07...   \n",
              "26    financial  Rs 5100 credited account XXXXX5690 SYNB linked...   \n",
              "27    financial  Your shreyassk987  okaxis linked ac noXXXXXXXX...   \n",
              "28    financial  Your 9945369054  ybl linked ac noXXXXXXXX05569...   \n",
              "29    financial  Your shreyassk987  okaxis linked ac noXXXXXXXX...   \n",
              "...         ...                                                ...   \n",
              "7834     others  ನಿಮ್ಮ ಜಿಯೊ ಸಂಖ್ಯೆ 6361924355 ಯ ಮೇಲಿರುವ ಯೋಜನೆ...   \n",
              "7835     others  ನಿಮ್ಮ ಜಿಯೊ ಸಂಖ್ಯೆ 6361924355 ಯ ಮೇಲಿರುವ ನಿಮ್ಮ ಯ...   \n",
              "7836  financial  Your Ac XX5690 debited INR 1100 21102019 10224...   \n",
              "7837  financial  9945369054  paytm linked ac XXXXXXXX055690 deb...   \n",
              "7838  financial  Your plan Jio 6361924355 expire 23102019  Rech...   \n",
              "7839     others  Dear  4NI17IS076 monthly Attendance 20192020  ...   \n",
              "7840  financial  SHREYAS KULKARNI Your application Scholarship ...   \n",
              "7841     others  ಈ ದೀಪಾವಳಿಯನ್ನು ವಿಭಿನ್ನಗೊಳಿಸಿ  ಕೇವಲ ಸಿಹಿತಿಂಡಿಗಳ...   \n",
              "7842  financial  Medlife Super Saver test  Rs630 63 Tests  Just...   \n",
              "7843  financial  Your Ac XX5690 debited INR 1600 21102019 06194...   \n",
              "7844  financial  9945369054  paytm linked ac XXXXXXXX055690 deb...   \n",
              "7845  financial  Recharge Airtel Unlimited Pack Expiry get Extr...   \n",
              "7846  financial  Recharge Rs498 Rs10 IUC Topup  get upto Rs85 A...   \n",
              "7847  financial  Your Ac XX5690 debited INR 7300 21102019 09290...   \n",
              "7848  financial  Your Ac XX5690 credited INR 3300 21102019 0929...   \n",
              "7849  financial  9945369054  ybl linked ac XXXXXXXX055690 credi...   \n",
              "7850  financial  9945369054  paytm linked ac XXXXXXXX055690 deb...   \n",
              "7851  financial  Paid Rs  73 Kasturi juice Center Oct 21  2019 ...   \n",
              "7852  financial  Your Ac XX5690 debited INR 3000 21102019 10153...   \n",
              "7853  financial  9945369054  paytm linked ac XXXXXXXX055690 deb...   \n",
              "7854  financial  Paid Rs  30 HM Enterprises Oct 21  2019 221829...   \n",
              "7855  financial  Paid Rs  30 HM Enterprises Oct 22  2019 001012...   \n",
              "7856  financial  Your Ac XX5690 debited INR 3000 22102019 12080...   \n",
              "7857  financial  9945369054  paytm linked ac XXXXXXXX055690 deb...   \n",
              "7858     others  Dear  4NI17IS076 I Test Marks 20192020 ODDsem ...   \n",
              "7859     others  ನಿಮ್ಮ ಜಿಯೊ ಸಂಖ್ಯೆ 6361924355 ಯ ಮೇಲಿರುವ ಯೋಜನೆ...   \n",
              "7860  financial  Be extra careful  verify credentials person as...   \n",
              "7861  financial  Your plan Jio 6361924355 expire 23102019  Rech...   \n",
              "7862  important  VOGO rides got lighter pockets  Apply code VOG...   \n",
              "7863  financial  Recharge Truly Unlimited Pack get Free calls n...   \n",
              "\n",
              "      Category_Code  \n",
              "0                 3  \n",
              "1                 1  \n",
              "2                 2  \n",
              "3                 1  \n",
              "4                 2  \n",
              "5                 3  \n",
              "6                 1  \n",
              "7                 1  \n",
              "8                 1  \n",
              "9                 0  \n",
              "10                0  \n",
              "11                0  \n",
              "12                2  \n",
              "13                0  \n",
              "14                0  \n",
              "15                1  \n",
              "16                0  \n",
              "17                0  \n",
              "18                0  \n",
              "19                0  \n",
              "20                0  \n",
              "21                0  \n",
              "22                0  \n",
              "23                0  \n",
              "24                0  \n",
              "25                0  \n",
              "26                0  \n",
              "27                0  \n",
              "28                0  \n",
              "29                0  \n",
              "...             ...  \n",
              "7834              3  \n",
              "7835              3  \n",
              "7836              0  \n",
              "7837              0  \n",
              "7838              0  \n",
              "7839              3  \n",
              "7840              0  \n",
              "7841              3  \n",
              "7842              0  \n",
              "7843              0  \n",
              "7844              0  \n",
              "7845              0  \n",
              "7846              0  \n",
              "7847              0  \n",
              "7848              0  \n",
              "7849              0  \n",
              "7850              0  \n",
              "7851              0  \n",
              "7852              0  \n",
              "7853              0  \n",
              "7854              0  \n",
              "7855              0  \n",
              "7856              0  \n",
              "7857              0  \n",
              "7858              3  \n",
              "7859              3  \n",
              "7860              0  \n",
              "7861              0  \n",
              "7862              1  \n",
              "7863              0  \n",
              "\n",
              "[7864 rows x 3 columns]"
            ]
          },
          "execution_count": 7,
          "metadata": {},
          "output_type": "execute_result"
        }
      ],
      "source": [
        "df3"
      ]
    },
    {
      "cell_type": "code",
      "execution_count": null,
      "metadata": {
        "id": "g1_53E_ZDgYG"
      },
      "outputs": [],
      "source": [
        "from sklearn.model_selection import train_test_split"
      ]
    },
    {
      "cell_type": "code",
      "execution_count": null,
      "metadata": {
        "id": "l66mS_YEDgYG"
      },
      "outputs": [],
      "source": [
        "X_train, X_test, y_train, y_test = train_test_split(df3['text'],\n",
        "                                                    df3['Category_Code'],\n",
        "                                                    test_size=0.15,\n",
        "                                                    random_state=8)"
      ]
    },
    {
      "cell_type": "code",
      "execution_count": null,
      "metadata": {
        "id": "zEMxqjg2DgYG"
      },
      "outputs": [],
      "source": [
        "ngram_range = (1,2)\n",
        "min_df = 10\n",
        "max_df = 1.\n",
        "max_features = 300"
      ]
    },
    {
      "cell_type": "code",
      "execution_count": null,
      "metadata": {
        "id": "n-r4dKmODgYG"
      },
      "outputs": [],
      "source": [
        "from sklearn.feature_extraction.text import TfidfVectorizer"
      ]
    },
    {
      "cell_type": "code",
      "execution_count": null,
      "metadata": {
        "id": "TknmrK-CDgYH",
        "outputId": "8cbef17d-5149-4cb6-f659-dccaa86fb54b"
      },
      "outputs": [
        {
          "name": "stdout",
          "output_type": "stream",
          "text": [
            "label            object\n",
            "text             object\n",
            "Category_Code     int64\n",
            "dtype: object\n",
            "label            object\n",
            "text             object\n",
            "Category_Code     int64\n",
            "dtype: object\n"
          ]
        },
        {
          "data": {
            "text/plain": [
              "dtype('<U690')"
            ]
          },
          "execution_count": 26,
          "metadata": {},
          "output_type": "execute_result"
        }
      ],
      "source": [
        "print(df3.dtypes)\n",
        "#df3['label'] = df3['label'].values.astype('|S')\n",
        "#x = df3['text'].values.astype('U')\n",
        "#print(df3.dtypes)"
      ]
    },
    {
      "cell_type": "code",
      "execution_count": null,
      "metadata": {
        "id": "0FzODiLnDgYH",
        "outputId": "6a93156c-9fe6-48b4-c3bd-2db1de93f476"
      },
      "outputs": [
        {
          "name": "stdout",
          "output_type": "stream",
          "text": [
            "(6684, 300)\n",
            "(1180, 300)\n"
          ]
        }
      ],
      "source": [
        "tfidf = TfidfVectorizer(encoding='utf-8',\n",
        "                        ngram_range=ngram_range,\n",
        "                        stop_words=None,\n",
        "                        lowercase=False,\n",
        "                        max_df=max_df,\n",
        "                        min_df=min_df,\n",
        "                        max_features=max_features,\n",
        "                        norm='l2',\n",
        "                        sublinear_tf=True)\n",
        "\n",
        "features_train = tfidf.fit_transform(X_train.values.astype('U')).toarray()\n",
        "labels_train = y_train\n",
        "print(features_train.shape)\n",
        "\n",
        "features_test = tfidf.transform(X_test.values.astype('U')).toarray()\n",
        "labels_test = y_test\n",
        "print(features_test.shape)"
      ]
    },
    {
      "cell_type": "code",
      "execution_count": null,
      "metadata": {
        "id": "5mUHElbuDgY3",
        "outputId": "46ebea3e-f7b6-481e-9c07-ec0b839f7aa0"
      },
      "outputs": [
        {
          "name": "stdout",
          "output_type": "stream",
          "text": [
            "[[0.         0.         0.         ... 0.         0.         0.        ]\n",
            " [0.         0.         0.         ... 0.         0.         0.        ]\n",
            " [0.         0.         0.         ... 0.         0.         0.        ]\n",
            " ...\n",
            " [0.         0.         0.         ... 0.         0.         0.        ]\n",
            " [0.         0.         0.         ... 0.         0.         0.        ]\n",
            " [0.         0.         0.29419576 ... 0.         0.         0.        ]]\n"
          ]
        }
      ],
      "source": [
        "print(features_test)"
      ]
    },
    {
      "cell_type": "code",
      "execution_count": null,
      "metadata": {
        "id": "HJ9X4m2rDgY4",
        "outputId": "e3316ee6-c434-4317-bc15-8ece69f46b98"
      },
      "outputs": [
        {
          "name": "stdout",
          "output_type": "stream",
          "text": [
            "# 'financial' category:\n",
            "  . Most correlated unigrams:\n",
            ". Ac\n",
            ". debited\n",
            ". Avl\n",
            ". Bal\n",
            ". INR\n",
            "  . Most correlated bigrams:\n",
            ". Avl Bal\n",
            ". Your Ac\n",
            "\n",
            "# 'important' category:\n",
            "  . Most correlated unigrams:\n",
            ". Do\n",
            ". online\n",
            ". one\n",
            ". code\n",
            ". OTP\n",
            "  . Most correlated bigrams:\n",
            ". Avl Bal\n",
            ". Your Ac\n",
            "\n",
            "# 'others' category:\n",
            "  . Most correlated unigrams:\n",
            ". ಯಲ\n",
            ". ಟರ\n",
            ". ಮತ\n",
            ". ಅನ\n",
            ". ಜನ\n",
            "  . Most correlated bigrams:\n",
            ". Dear Customer\n",
            ". You missed\n",
            "\n",
            "# 'spam' category:\n",
            "  . Most correlated unigrams:\n",
            ". Offer\n",
            ". balance\n",
            ". recharge\n",
            ". dial\n",
            ". Dial\n",
            "  . Most correlated bigrams:\n",
            ". high speed\n",
            ". balance validity\n",
            "\n"
          ]
        }
      ],
      "source": [
        "from sklearn.feature_selection import chi2\n",
        "import numpy as np\n",
        "\n",
        "for Product, category_id in sorted(category_codes.items()):\n",
        "    features_chi2 = chi2(features_train, labels_train == category_id)\n",
        "    indices = np.argsort(features_chi2[0])\n",
        "    feature_names = np.array(tfidf.get_feature_names())[indices]\n",
        "    unigrams = [v for v in feature_names if len(v.split(' ')) == 1]\n",
        "    bigrams = [v for v in feature_names if len(v.split(' ')) == 2]\n",
        "    print(\"# '{}' category:\".format(Product))\n",
        "    print(\"  . Most correlated unigrams:\\n. {}\".format('\\n. '.join(unigrams[-5:])))\n",
        "    print(\"  . Most correlated bigrams:\\n. {}\".format('\\n. '.join(bigrams[-2:])))\n",
        "    print(\"\")"
      ]
    },
    {
      "cell_type": "code",
      "execution_count": null,
      "metadata": {
        "id": "fJ7nS5n7DgY5",
        "outputId": "172f2b6e-fb16-4e68-aa1a-85889501a55d"
      },
      "outputs": [
        {
          "data": {
            "text/plain": [
              "['28 days',\n",
              " 'Dear Customer',\n",
              " 'ಯತ ಜನ',\n",
              " 'ಅನ ವರ',\n",
              " 'ವರ ದಕ',\n",
              " 'ಗಳ ಯಲ',\n",
              " 'ದಕ http',\n",
              " 'ರಸ ಯತ',\n",
              " 'ಕಡ ತದ',\n",
              " 'ಟರ ಕಡ',\n",
              " 'ಸಕ ಜನ',\n",
              " '1991 ಡಯಲ',\n",
              " 'tinyjiocomDataBooster ಅನ',\n",
              " 'ಯಲ 1991',\n",
              " 'ತದ ಟರ',\n",
              " 'ಡಲ ಮತ',\n",
              " 'ಟರ ಡಲ',\n",
              " 'ಮತ ಟರ',\n",
              " 'ಅನ ರಸ',\n",
              " 'ಟರ ಅನ',\n",
              " 'ಹಚ ಚಲ',\n",
              " 'ದರ ಇನ',\n",
              " 'ಮತ ಬಳಕ',\n",
              " 'ಇನ ನಷ',\n",
              " 'ಪತ ಹಚ',\n",
              " 'ಯನ ಪತ',\n",
              " 'ಮಜ ಯನ',\n",
              " 'ಅನ ಮಜ',\n",
              " '1299 ಅನ',\n",
              " 'ಚಲ 1299',\n",
              " 'ನಷ ಯಲ',\n",
              " 'GB ಅನ',\n",
              " '50 ರಷ',\n",
              " 'ಖಡ 50',\n",
              " '1991ಗ ಡಯಲ',\n",
              " 'ಯಲ 1991ಗ',\n",
              " 'ಗಳ ಬಗ',\n",
              " '9220092200 Tollfree',\n",
              " 'BLOCKUPI 9220092200',\n",
              " 'You missed',\n",
              " 'ಬಗ ಯಲ',\n",
              " 'ರಸ ಜನ',\n",
              " 'ಅನ ಬಳಸ',\n",
              " 'http tinyjiocomMyJioVideo',\n",
              " 'ಟರ ಖಡ',\n",
              " 'ಬಳಕ ಯನ',\n",
              " 'ವಹ ದರ',\n",
              " 'ಬಳಸ 6361924355',\n",
              " '6361924355 ಇಷ',\n",
              " 'ಇಷ ಟರ',\n",
              " 'ಯನ ವಹ',\n",
              " 'Tollfree 18002083333',\n",
              " '18002083333 180030113333',\n",
              " 'suspicious send',\n",
              " 'XXXXXXXX055690 debited',\n",
              " 'send BLOCKUPI',\n",
              " 'find txn',\n",
              " 'txn suspicious',\n",
              " 'If find',\n",
              " 'ಮತ ಅತ',\n",
              " 'ಅತ ಕರ',\n",
              " 'ಕರ ಷಕ',\n",
              " 'ಷಕ ಜನ',\n",
              " 'ವರಗಳ ಮತ',\n",
              " 'ಜನ ವರಗಳ',\n",
              " 'ಜನ ಗಳ',\n",
              " 'XXX5690 credited',\n",
              " 'okaxis linked',\n",
              " 'XXXXXXXX055690 credited',\n",
              " 'XXX5690 debited',\n",
              " 'SYN INR',\n",
              " '15 GB',\n",
              " 'credited INR',\n",
              " 'shreyassk987 okaxis',\n",
              " 'PM TRFR',\n",
              " 'http tinyjiocomDataBooster',\n",
              " 'debited INR',\n",
              " '150 GB',\n",
              " 'ac XXXXXXXX055690',\n",
              " 'linked ac',\n",
              " 'UPI Ref',\n",
              " 'Ac XXX5690',\n",
              " 'TRFR Avl',\n",
              " 'Bal INR',\n",
              " 'Avl Bal',\n",
              " 'Your Ac',\n",
              " 'missed call',\n",
              " 'Click http',\n",
              " 'speed data',\n",
              " 'plan Click',\n",
              " '10GB data',\n",
              " 'reduced case',\n",
              " 'case active',\n",
              " 'speed reduced',\n",
              " 'active data',\n",
              " 'data plan',\n",
              " 'tinyjiocomDataBooster recharge',\n",
              " 'booster continue',\n",
              " 'recharge data',\n",
              " 'internet Dial',\n",
              " 'data booster',\n",
              " 'continue enjoying',\n",
              " 'enjoying high',\n",
              " 'data quota',\n",
              " 'To know',\n",
              " 'internet quota',\n",
              " 'click https',\n",
              " 'To track',\n",
              " 'manage Jio',\n",
              " 'usage give',\n",
              " '1299 To',\n",
              " 'call 1299',\n",
              " 'track balance',\n",
              " 'used 50',\n",
              " 'Jio account',\n",
              " 'account click',\n",
              " 'GB daily',\n",
              " 'balance usage',\n",
              " 'know manage',\n",
              " 'daily high',\n",
              " 'give missed',\n",
              " 'quota Jio',\n",
              " 'You used',\n",
              " 'speed internet',\n",
              " 'Number 6361924355',\n",
              " 'Jio Number',\n",
              " 'details exciting',\n",
              " 'recharge plans',\n",
              " 'Dial 1991',\n",
              " 'current balance',\n",
              " 'validity plan',\n",
              " 'exciting recharge',\n",
              " '1991 know',\n",
              " 'know current',\n",
              " 'plan details',\n",
              " 'high speed',\n",
              " 'balance validity']"
            ]
          },
          "execution_count": 34,
          "metadata": {},
          "output_type": "execute_result"
        }
      ],
      "source": [
        "bigrams"
      ]
    },
    {
      "cell_type": "code",
      "execution_count": null,
      "metadata": {
        "id": "H72JoO1tDgY6"
      },
      "outputs": [],
      "source": [
        "import pickle"
      ]
    },
    {
      "cell_type": "code",
      "execution_count": null,
      "metadata": {
        "id": "xor3v5ZxDgY7"
      },
      "outputs": [],
      "source": [
        "# X_train\n",
        "with open('C:\\\\Users\\\\Sanjana Ashtaputre\\\\Downloads//X_train.pickle', 'wb') as output:\n",
        "    pickle.dump(X_train, output)\n",
        "\n",
        "# X_test\n",
        "with open('C:\\\\Users\\\\Sanjana Ashtaputre\\\\Downloads//X_test.pickle', 'wb') as output:\n",
        "    pickle.dump(X_test, output)\n",
        "\n",
        "# y_train\n",
        "with open('C:\\\\Users\\\\Sanjana Ashtaputre\\\\Downloads//y_train.pickle', 'wb') as output:\n",
        "    pickle.dump(y_train, output)\n",
        "\n",
        "# y_test\n",
        "with open('C:\\\\Users\\\\Sanjana Ashtaputre\\\\Downloads//y_test.pickle', 'wb') as output:\n",
        "    pickle.dump(y_test, output)\n",
        "\n",
        "# df\n",
        "with open('C:\\\\Users\\\\Sanjana Ashtaputre\\\\Downloads//df.pickle', 'wb') as output:\n",
        "    pickle.dump(df3, output)\n",
        "\n",
        "# features_train\n",
        "with open('C:\\\\Users\\\\Sanjana Ashtaputre\\\\Downloads//features_train.pickle', 'wb') as output:\n",
        "    pickle.dump(features_train, output)\n",
        "\n",
        "# labels_train\n",
        "with open('C:\\\\Users\\\\Sanjana Ashtaputre\\\\Downloads//labels_train.pickle', 'wb') as output:\n",
        "    pickle.dump(labels_train, output)\n",
        "\n",
        "# features_test\n",
        "with open('C:\\\\Users\\\\Sanjana Ashtaputre\\\\Downloads//features_test.pickle', 'wb') as output:\n",
        "    pickle.dump(features_test, output)\n",
        "\n",
        "# labels_test\n",
        "with open('C:\\\\Users\\\\Sanjana Ashtaputre\\\\Downloads//labels_test.pickle', 'wb') as output:\n",
        "    pickle.dump(labels_test, output)\n",
        "\n",
        "# TF-IDF object\n",
        "with open('C:\\\\Users\\\\Sanjana Ashtaputre\\\\Downloads//tfidf.pickle', 'wb') as output:\n",
        "    pickle.dump(tfidf, output)"
      ]
    },
    {
      "cell_type": "code",
      "execution_count": null,
      "metadata": {
        "id": "st2_De6PDgY7"
      },
      "outputs": [],
      "source": [
        "#importing libraries\n",
        "import pickle\n",
        "import numpy as np\n",
        "from sklearn.feature_extraction.text import TfidfVectorizer\n",
        "from sklearn.ensemble import RandomForestClassifier\n",
        "from pprint import pprint\n",
        "from sklearn.model_selection import RandomizedSearchCV\n",
        "from sklearn.model_selection import GridSearchCV\n",
        "from sklearn.metrics import classification_report, confusion_matrix, accuracy_score\n",
        "from sklearn.model_selection import ShuffleSplit\n",
        "import matplotlib.pyplot as plt\n",
        "import seaborn as sns\n",
        "import pandas as pd"
      ]
    },
    {
      "cell_type": "markdown",
      "metadata": {
        "id": "DSP6cvsVDgZH"
      },
      "source": [
        "Loading Data."
      ]
    },
    {
      "cell_type": "code",
      "execution_count": null,
      "metadata": {
        "id": "7pHkLwytDgZK"
      },
      "outputs": [],
      "source": [
        "# Dataframe\n",
        "path_df = \"C:\\\\Users\\\\Sanjana Ashtaputre\\\\Downloads//df.pickle\"\n",
        "with open(path_df, 'rb') as data:\n",
        "    df = pickle.load(data)\n",
        "\n",
        "# features_train\n",
        "path_features_train = \"C:\\\\Users\\\\Sanjana Ashtaputre\\\\Downloads//features_train.pickle\"\n",
        "with open(path_features_train, 'rb') as data:\n",
        "    features_train = pickle.load(data)\n",
        "\n",
        "# labels_train\n",
        "path_labels_train = \"C:\\\\Users\\\\Sanjana Ashtaputre\\\\Downloads//labels_train.pickle\"\n",
        "with open(path_labels_train, 'rb') as data:\n",
        "    labels_train = pickle.load(data)\n",
        "\n",
        "# features_test\n",
        "path_features_test = \"C:\\\\Users\\\\Sanjana Ashtaputre\\\\Downloads//features_test.pickle\"\n",
        "with open(path_features_test, 'rb') as data:\n",
        "    features_test = pickle.load(data)\n",
        "\n",
        "# labels_test\n",
        "path_labels_test = \"C:\\\\Users\\\\Sanjana Ashtaputre\\\\Downloads//labels_test.pickle\"\n",
        "with open(path_labels_test, 'rb') as data:\n",
        "    labels_test = pickle.load(data)"
      ]
    },
    {
      "cell_type": "markdown",
      "metadata": {
        "id": "90F819orDgZK"
      },
      "source": [
        "Let's check the dimension of our feature vectors:"
      ]
    },
    {
      "cell_type": "code",
      "execution_count": null,
      "metadata": {
        "id": "1hzmQKIPDgZK",
        "outputId": "70a7bf5a-dd29-46ee-a478-7aaa3a23000a"
      },
      "outputs": [
        {
          "name": "stdout",
          "output_type": "stream",
          "text": [
            "(6684, 300)\n",
            "(1180, 300)\n"
          ]
        }
      ],
      "source": [
        "print(features_train.shape)\n",
        "print(features_test.shape)"
      ]
    },
    {
      "cell_type": "markdown",
      "metadata": {
        "id": "YsFWxtC4DgZL"
      },
      "source": [
        "Cross-Validation for Hyperparameter tuning\n",
        "First, we can see what hyperparameters the model has:"
      ]
    },
    {
      "cell_type": "code",
      "execution_count": null,
      "metadata": {
        "id": "UJZWXle9DgZL",
        "outputId": "b588d661-045c-4a73-cb24-c18f88b27708"
      },
      "outputs": [
        {
          "name": "stdout",
          "output_type": "stream",
          "text": [
            "Parameters currently in use:\n",
            "\n",
            "{'bootstrap': True,\n",
            " 'class_weight': None,\n",
            " 'criterion': 'gini',\n",
            " 'max_depth': None,\n",
            " 'max_features': 'auto',\n",
            " 'max_leaf_nodes': None,\n",
            " 'min_impurity_decrease': 0.0,\n",
            " 'min_impurity_split': None,\n",
            " 'min_samples_leaf': 1,\n",
            " 'min_samples_split': 2,\n",
            " 'min_weight_fraction_leaf': 0.0,\n",
            " 'n_estimators': 'warn',\n",
            " 'n_jobs': None,\n",
            " 'oob_score': False,\n",
            " 'random_state': 8,\n",
            " 'verbose': 0,\n",
            " 'warm_start': False}\n"
          ]
        }
      ],
      "source": [
        "rf_0 = RandomForestClassifier(random_state = 8)\n",
        "\n",
        "print('Parameters currently in use:\\n')\n",
        "pprint(rf_0.get_params())"
      ]
    },
    {
      "cell_type": "markdown",
      "metadata": {
        "id": "AZDzeRdLDgZM"
      },
      "source": [
        "We'll tune the following ones:\n",
        "\n",
        "n_estimators = number of trees in the forest.\n",
        "\n",
        "max_features = max number of features considered for splitting a node\n",
        "\n",
        "max_depth = max number of levels in each decision tree\n",
        "\n",
        "min_samples_split = min number of data points placed in a node before the node is split\n",
        "\n",
        "min_samples_leaf = min number of data points allowed in a leaf node\n",
        "\n",
        "bootstrap = method for sampling data points (with or without replacement)"
      ]
    },
    {
      "cell_type": "markdown",
      "metadata": {
        "id": "EGp8CM3TDgZM"
      },
      "source": [
        "Randomized Search Cross Validation\n",
        "We first need to define the grid:"
      ]
    },
    {
      "cell_type": "code",
      "execution_count": null,
      "metadata": {
        "id": "O3JKVEmuDgZM",
        "outputId": "9059705d-b3c8-4d36-f85a-98dff516775d"
      },
      "outputs": [
        {
          "name": "stdout",
          "output_type": "stream",
          "text": [
            "{'bootstrap': [True, False],\n",
            " 'max_depth': [20, 40, 60, 80, 100, None],\n",
            " 'max_features': ['auto', 'sqrt'],\n",
            " 'min_samples_leaf': [1, 2, 4],\n",
            " 'min_samples_split': [2, 5, 10],\n",
            " 'n_estimators': [200, 400, 600, 800, 1000]}\n"
          ]
        }
      ],
      "source": [
        "# n_estimators\n",
        "n_estimators = [int(x) for x in np.linspace(start = 200, stop = 1000, num = 5)]\n",
        "\n",
        "# max_features\n",
        "max_features = ['auto', 'sqrt']\n",
        "\n",
        "# max_depth\n",
        "max_depth = [int(x) for x in np.linspace(20, 100, num = 5)]\n",
        "max_depth.append(None)\n",
        "\n",
        "# min_samples_split\n",
        "min_samples_split = [2, 5, 10]\n",
        "\n",
        "# min_samples_leaf\n",
        "min_samples_leaf = [1, 2, 4]\n",
        "\n",
        "# bootstrap\n",
        "bootstrap = [True, False]\n",
        "\n",
        "# Create the random grid\n",
        "random_grid = {'n_estimators': n_estimators,\n",
        "               'max_features': max_features,\n",
        "               'max_depth': max_depth,\n",
        "               'min_samples_split': min_samples_split,\n",
        "               'min_samples_leaf': min_samples_leaf,\n",
        "               'bootstrap': bootstrap}\n",
        "\n",
        "pprint(random_grid)"
      ]
    },
    {
      "cell_type": "markdown",
      "metadata": {
        "id": "08ok0Cx6DgZN"
      },
      "source": [
        "Then, we'll perform the Random Search:"
      ]
    },
    {
      "cell_type": "code",
      "execution_count": null,
      "metadata": {
        "id": "Yej8yj3zDgZN",
        "outputId": "1a6e682a-a83d-40fb-b859-75466be144be"
      },
      "outputs": [
        {
          "name": "stdout",
          "output_type": "stream",
          "text": [
            "[[0.         0.         0.         ... 0.         0.         0.        ]\n",
            " [0.         0.         0.         ... 0.         0.         0.        ]\n",
            " [0.         0.         0.         ... 0.         0.         0.        ]\n",
            " ...\n",
            " [0.         0.38326958 0.         ... 0.         0.         0.        ]\n",
            " [0.         0.         0.         ... 0.         0.         0.        ]\n",
            " [0.         0.         0.         ... 0.         0.         0.        ]] 3545    1\n",
            "3340    3\n",
            "854     0\n",
            "7157    1\n",
            "5131    0\n",
            "3684    2\n",
            "4136    3\n",
            "6075    3\n",
            "5602    2\n",
            "6105    1\n",
            "570     0\n",
            "5352    1\n",
            "755     0\n",
            "6263    2\n",
            "7524    2\n",
            "2011    0\n",
            "492     0\n",
            "2439    0\n",
            "6158    1\n",
            "6497    2\n",
            "6326    2\n",
            "1585    0\n",
            "3886    0\n",
            "7554    0\n",
            "7198    0\n",
            "121     3\n",
            "2083    2\n",
            "3562    0\n",
            "361     3\n",
            "7206    0\n",
            "       ..\n",
            "6584    3\n",
            "4445    3\n",
            "7270    2\n",
            "270     0\n",
            "3602    1\n",
            "7483    0\n",
            "3426    0\n",
            "5469    0\n",
            "6287    0\n",
            "1085    1\n",
            "6025    2\n",
            "4365    0\n",
            "620     0\n",
            "4763    0\n",
            "458     0\n",
            "4211    2\n",
            "4924    2\n",
            "5205    0\n",
            "5997    0\n",
            "2096    0\n",
            "3775    3\n",
            "5480    3\n",
            "6995    0\n",
            "2184    3\n",
            "5082    2\n",
            "2181    0\n",
            "2409    2\n",
            "2033    0\n",
            "1364    2\n",
            "4547    1\n",
            "Name: Category_Code, Length: 6684, dtype: int64\n",
            "Fitting 3 folds for each of 50 candidates, totalling 150 fits\n"
          ]
        },
        {
          "name": "stderr",
          "output_type": "stream",
          "text": [
            "[Parallel(n_jobs=1)]: Using backend SequentialBackend with 1 concurrent workers.\n",
            "[Parallel(n_jobs=1)]: Done 150 out of 150 | elapsed: 19.5min finished\n"
          ]
        },
        {
          "data": {
            "text/plain": [
              "RandomizedSearchCV(cv=3, error_score='raise-deprecating',\n",
              "          estimator=RandomForestClassifier(bootstrap=True, class_weight=None, criterion='gini',\n",
              "            max_depth=None, max_features='auto', max_leaf_nodes=None,\n",
              "            min_impurity_decrease=0.0, min_impurity_split=None,\n",
              "            min_samples_leaf=1, min_samples_split=2,\n",
              "            min_weight_fraction_leaf=0.0, n_estimators='warn', n_jobs=None,\n",
              "            oob_score=False, random_state=8, verbose=0, warm_start=False),\n",
              "          fit_params=None, iid='warn', n_iter=50, n_jobs=None,\n",
              "          param_distributions={'n_estimators': [200, 400, 600, 800, 1000], 'max_features': ['auto', 'sqrt'], 'max_depth': [20, 40, 60, 80, 100, None], 'min_samples_split': [2, 5, 10], 'min_samples_leaf': [1, 2, 4], 'bootstrap': [True, False]},\n",
              "          pre_dispatch='2*n_jobs', random_state=8, refit=True,\n",
              "          return_train_score='warn', scoring='accuracy', verbose=1)"
            ]
          },
          "execution_count": 42,
          "metadata": {},
          "output_type": "execute_result"
        }
      ],
      "source": [
        "# First create the base model to tune\n",
        "print(features_train,labels_train)\n",
        "rfc = RandomForestClassifier(random_state=8)\n",
        "\n",
        "# Definition of the random search\n",
        "random_search = RandomizedSearchCV(estimator=rfc,\n",
        "                                   param_distributions=random_grid,\n",
        "                                   n_iter=50,\n",
        "                                   scoring='accuracy',\n",
        "                                   cv=3,\n",
        "                                   verbose=1,\n",
        "                                   random_state=8)\n",
        "\n",
        "# Fit the random search model\n",
        "random_search.fit(features_train, labels_train)"
      ]
    },
    {
      "cell_type": "markdown",
      "metadata": {
        "id": "ZFhY3WwqDgZN"
      },
      "source": [
        "We can see the best hyperparameters resulting from the Random Search:"
      ]
    },
    {
      "cell_type": "code",
      "execution_count": null,
      "metadata": {
        "scrolled": true,
        "id": "LQ3or8e1DgZO",
        "outputId": "3bef2942-8484-4470-dcdf-1fe3d7181381"
      },
      "outputs": [
        {
          "name": "stdout",
          "output_type": "stream",
          "text": [
            "The best hyperparameters from Random Search are:\n",
            "{'n_estimators': 600, 'min_samples_split': 10, 'min_samples_leaf': 1, 'max_features': 'sqrt', 'max_depth': 100, 'bootstrap': False}\n",
            "\n",
            "The mean accuracy of a model with these hyperparameters is:\n",
            "0.9015559545182525\n"
          ]
        }
      ],
      "source": [
        "print(\"The best hyperparameters from Random Search are:\")\n",
        "print(random_search.best_params_)\n",
        "print(\"\")\n",
        "print(\"The mean accuracy of a model with these hyperparameters is:\")\n",
        "print(random_search.best_score_)"
      ]
    },
    {
      "cell_type": "markdown",
      "metadata": {
        "id": "q4G-gJMmDgZO"
      },
      "source": [
        "After that, we can do a more exhaustive search centered in those values:"
      ]
    },
    {
      "cell_type": "code",
      "execution_count": null,
      "metadata": {
        "id": "Dr21AZF3DgZO",
        "outputId": "c8a84b14-6e06-499b-8427-58d8fc376333"
      },
      "outputs": [
        {
          "name": "stdout",
          "output_type": "stream",
          "text": [
            "Fitting 3 folds for each of 27 candidates, totalling 81 fits\n"
          ]
        },
        {
          "name": "stderr",
          "output_type": "stream",
          "text": [
            "[Parallel(n_jobs=1)]: Using backend SequentialBackend with 1 concurrent workers.\n",
            "[Parallel(n_jobs=1)]: Done  81 out of  81 | elapsed: 14.0min finished\n"
          ]
        },
        {
          "data": {
            "text/plain": [
              "GridSearchCV(cv=ShuffleSplit(n_splits=3, random_state=8, test_size=0.33, train_size=None),\n",
              "       error_score='raise-deprecating',\n",
              "       estimator=RandomForestClassifier(bootstrap=True, class_weight=None, criterion='gini',\n",
              "            max_depth=None, max_features='auto', max_leaf_nodes=None,\n",
              "            min_impurity_decrease=0.0, min_impurity_split=None,\n",
              "            min_samples_leaf=1, min_samples_split=2,\n",
              "            min_weight_fraction_leaf=0.0, n_estimators='warn', n_jobs=None,\n",
              "            oob_score=False, random_state=8, verbose=0, warm_start=False),\n",
              "       fit_params=None, iid='warn', n_jobs=None,\n",
              "       param_grid={'bootstrap': [False], 'max_depth': [30, 40, 50], 'max_features': ['sqrt'], 'min_samples_leaf': [1, 2, 4], 'min_samples_split': [5, 10, 15], 'n_estimators': [800]},\n",
              "       pre_dispatch='2*n_jobs', refit=True, return_train_score='warn',\n",
              "       scoring='accuracy', verbose=1)"
            ]
          },
          "execution_count": 44,
          "metadata": {},
          "output_type": "execute_result"
        }
      ],
      "source": [
        "# Create the parameter grid based on the results of random search\n",
        "bootstrap = [False]\n",
        "max_depth = [30, 40, 50]\n",
        "max_features = ['sqrt']\n",
        "min_samples_leaf = [1, 2, 4]\n",
        "min_samples_split = [5, 10, 15]\n",
        "n_estimators = [800]\n",
        "\n",
        "param_grid = {\n",
        "    'bootstrap': bootstrap,\n",
        "    'max_depth': max_depth,\n",
        "    'max_features': max_features,\n",
        "    'min_samples_leaf': min_samples_leaf,\n",
        "    'min_samples_split': min_samples_split,\n",
        "    'n_estimators': n_estimators\n",
        "}\n",
        "\n",
        "# Create a base model\n",
        "rfc = RandomForestClassifier(random_state=8)\n",
        "\n",
        "# Manually create the splits in CV in order to be able to fix a random_state (GridSearchCV doesn't have that argument)\n",
        "cv_sets = ShuffleSplit(n_splits = 3, test_size = .33, random_state = 8)\n",
        "\n",
        "# Instantiate the grid search model\n",
        "grid_search = GridSearchCV(estimator=rfc,\n",
        "                           param_grid=param_grid,\n",
        "                           scoring='accuracy',\n",
        "                           cv=cv_sets,\n",
        "                           verbose=1)\n",
        "\n",
        "# Fit the grid search to the data\n",
        "grid_search.fit(features_train, labels_train)"
      ]
    },
    {
      "cell_type": "code",
      "execution_count": null,
      "metadata": {
        "id": "aiR0T2l4DgZP",
        "outputId": "0f08b5d4-760c-43ce-df26-8fa599685103"
      },
      "outputs": [
        {
          "name": "stdout",
          "output_type": "stream",
          "text": [
            "The best hyperparameters from Grid Search are:\n",
            "{'bootstrap': False, 'max_depth': 50, 'max_features': 'sqrt', 'min_samples_leaf': 1, 'min_samples_split': 5, 'n_estimators': 800}\n",
            "\n",
            "The mean accuracy of a model with these hyperparameters is:\n",
            "0.9031429434874585\n"
          ]
        }
      ],
      "source": [
        "print(\"The best hyperparameters from Grid Search are:\")\n",
        "print(grid_search.best_params_)\n",
        "print(\"\")\n",
        "print(\"The mean accuracy of a model with these hyperparameters is:\")\n",
        "print(grid_search.best_score_)"
      ]
    },
    {
      "cell_type": "markdown",
      "metadata": {
        "id": "qQMXEdYZDgZQ"
      },
      "source": [
        "Let's save the model in best_rfc:"
      ]
    },
    {
      "cell_type": "code",
      "execution_count": null,
      "metadata": {
        "id": "Fhusdue-DgZQ"
      },
      "outputs": [],
      "source": [
        "best_rfc = grid_search.best_estimator_"
      ]
    },
    {
      "cell_type": "code",
      "execution_count": null,
      "metadata": {
        "id": "I5eMeNX6DgZQ",
        "outputId": "02cd1936-d1d5-41d1-83dd-b1ba5857e713"
      },
      "outputs": [
        {
          "data": {
            "text/plain": [
              "RandomForestClassifier(bootstrap=False, class_weight=None, criterion='gini',\n",
              "            max_depth=50, max_features='sqrt', max_leaf_nodes=None,\n",
              "            min_impurity_decrease=0.0, min_impurity_split=None,\n",
              "            min_samples_leaf=1, min_samples_split=5,\n",
              "            min_weight_fraction_leaf=0.0, n_estimators=800, n_jobs=None,\n",
              "            oob_score=False, random_state=8, verbose=0, warm_start=False)"
            ]
          },
          "execution_count": 49,
          "metadata": {},
          "output_type": "execute_result"
        }
      ],
      "source": [
        "best_rfc"
      ]
    },
    {
      "cell_type": "markdown",
      "metadata": {
        "id": "Lb4vDEnCDgZT"
      },
      "source": [
        "\n",
        "We now know the best random forest model. Let's fit it and see how it performs:\n",
        "\n",
        "Model fit and performance\n",
        "Now, we can fit the model to our training data:"
      ]
    },
    {
      "cell_type": "code",
      "execution_count": null,
      "metadata": {
        "id": "df5rw8OuDgZU",
        "outputId": "5a01861d-609d-4846-aa79-9aa64fc44b51"
      },
      "outputs": [
        {
          "data": {
            "text/plain": [
              "RandomForestClassifier(bootstrap=False, class_weight=None, criterion='gini',\n",
              "            max_depth=50, max_features='sqrt', max_leaf_nodes=None,\n",
              "            min_impurity_decrease=0.0, min_impurity_split=None,\n",
              "            min_samples_leaf=1, min_samples_split=5,\n",
              "            min_weight_fraction_leaf=0.0, n_estimators=800, n_jobs=None,\n",
              "            oob_score=False, random_state=8, verbose=0, warm_start=False)"
            ]
          },
          "execution_count": 50,
          "metadata": {},
          "output_type": "execute_result"
        }
      ],
      "source": [
        "\n",
        "best_rfc.fit(features_train, labels_train)"
      ]
    },
    {
      "cell_type": "markdown",
      "metadata": {
        "id": "PyH5oRKYDgZV"
      },
      "source": [
        "And get the predictions:"
      ]
    },
    {
      "cell_type": "code",
      "execution_count": null,
      "metadata": {
        "id": "yWvHT6P2DgZW"
      },
      "outputs": [],
      "source": [
        "\n",
        "rfc_pred = best_rfc.predict(features_test)"
      ]
    },
    {
      "cell_type": "markdown",
      "metadata": {
        "id": "mq1OZ3JKDgZW"
      },
      "source": [
        "The conditional class probabilities can be obtained by typing:\n",
        "\n",
        "rfc_pred = best_rfc.predict_proba(features_test)\n",
        "\n",
        "For performance analysis, we will use the confusion matrix, the classification report and the accuracy on both training and test data:\n",
        "\n"
      ]
    },
    {
      "cell_type": "markdown",
      "metadata": {
        "id": "t9RPdW6kDgZW"
      },
      "source": [
        "Training accuracy"
      ]
    },
    {
      "cell_type": "code",
      "execution_count": null,
      "metadata": {
        "id": "6MZB1PNSDgZW",
        "outputId": "fca3a0ee-b587-44ac-b462-770077dfef6d"
      },
      "outputs": [
        {
          "name": "stdout",
          "output_type": "stream",
          "text": [
            "The training accuracy is: \n",
            "0.9500299222022741\n"
          ]
        }
      ],
      "source": [
        "print(\"The training accuracy is: \")\n",
        "print(accuracy_score(labels_train, best_rfc.predict(features_train)))"
      ]
    },
    {
      "cell_type": "code",
      "execution_count": null,
      "metadata": {
        "id": "mFEp9rYWDgZX",
        "outputId": "e68d863c-de75-4316-e8ed-184a7711d059"
      },
      "outputs": [
        {
          "name": "stdout",
          "output_type": "stream",
          "text": [
            "The test accuracy is: \n",
            "0.9050847457627119\n"
          ]
        }
      ],
      "source": [
        "print(\"The test accuracy is: \")\n",
        "print(accuracy_score(labels_test, rfc_pred))"
      ]
    },
    {
      "cell_type": "code",
      "execution_count": null,
      "metadata": {
        "id": "dOODFciKDgZX",
        "outputId": "4002c73e-2a58-4240-b21e-6ee0c2642395"
      },
      "outputs": [
        {
          "name": "stdout",
          "output_type": "stream",
          "text": [
            "Classification report\n",
            "              precision    recall  f1-score   support\n",
            "\n",
            "           0       0.94      0.89      0.92       571\n",
            "           1       0.98      0.90      0.94       104\n",
            "           2       0.93      0.90      0.92       242\n",
            "           3       0.79      0.93      0.86       263\n",
            "\n",
            "   micro avg       0.91      0.91      0.91      1180\n",
            "   macro avg       0.91      0.91      0.91      1180\n",
            "weighted avg       0.91      0.91      0.91      1180\n",
            "\n"
          ]
        }
      ],
      "source": [
        "print(\"Classification report\")\n",
        "print(classification_report(labels_test,rfc_pred))"
      ]
    },
    {
      "cell_type": "code",
      "execution_count": null,
      "metadata": {
        "id": "Ey54I5r6DgZX",
        "outputId": "1730f0ac-8cbb-4ec0-ac38-063787802139"
      },
      "outputs": [
        {
          "data": {
            "image/png": "[encoded data removed]",
            "text/plain": [
              "<Figure size 921.6x432 with 2 Axes>"
            ]
          },
          "metadata": {
            "needs_background": "light"
          },
          "output_type": "display_data"
        }
      ],
      "source": [
        "aux_df = df[['label', 'Category_Code']].drop_duplicates().sort_values('Category_Code')\n",
        "conf_matrix = confusion_matrix(labels_test, rfc_pred)\n",
        "plt.figure(figsize=(12.8,6))\n",
        "sns.heatmap(conf_matrix,\n",
        "            annot=True,\n",
        "            xticklabels=aux_df['label'].values,\n",
        "            yticklabels=aux_df['label'].values,\n",
        "            cmap=\"Blues\")\n",
        "plt.ylabel('Predicted')\n",
        "plt.xlabel('Actual')\n",
        "plt.title('Confusion matrix')\n",
        "plt.show()"
      ]
    },
    {
      "cell_type": "markdown",
      "metadata": {
        "id": "obFz5fiwDgZY"
      },
      "source": [
        "Let's see if the hyperparameter tuning process has returned a better model:"
      ]
    },
    {
      "cell_type": "code",
      "execution_count": null,
      "metadata": {
        "id": "MkMRnecrDgZZ",
        "outputId": "1fd95bb5-04fb-4f42-cb11-cf509398d16b"
      },
      "outputs": [
        {
          "name": "stderr",
          "output_type": "stream",
          "text": [
            "C:\\Users\\Sanjana Ashtaputre\\Anaconda3\\lib\\site-packages\\sklearn\\ensemble\\forest.py:246: FutureWarning: The default value of n_estimators will change from 10 in version 0.20 to 100 in 0.22.\n",
            "  \"10 in version 0.20 to 100 in 0.22.\", FutureWarning)\n"
          ]
        },
        {
          "data": {
            "text/plain": [
              "0.9050847457627119"
            ]
          },
          "execution_count": 57,
          "metadata": {},
          "output_type": "execute_result"
        }
      ],
      "source": [
        "base_model = RandomForestClassifier(random_state = 8)\n",
        "base_model.fit(features_train, labels_train)\n",
        "accuracy_score(labels_test, base_model.predict(features_test))"
      ]
    },
    {
      "cell_type": "code",
      "execution_count": null,
      "metadata": {
        "id": "UMOh0TM3DgZZ",
        "outputId": "e81de5e1-1e38-4170-a815-c4eb6303019d"
      },
      "outputs": [
        {
          "data": {
            "text/plain": [
              "0.9050847457627119"
            ]
          },
          "execution_count": 63,
          "metadata": {},
          "output_type": "execute_result"
        }
      ],
      "source": [
        "best_rfc.fit(features_train, labels_train)\n",
        "accuracy_score(labels_test, best_rfc.predict(features_test))"
      ]
    },
    {
      "cell_type": "code",
      "execution_count": null,
      "metadata": {
        "id": "XzpA_1oWDgZZ"
      },
      "outputs": [],
      "source": [
        "d = {\n",
        "     'Model': 'Random Forest',\n",
        "     'Training Set Accuracy': accuracy_score(labels_train, best_rfc.predict(features_train)),\n",
        "     'Test Set Accuracy': accuracy_score(labels_test, rfc_pred)\n",
        "}\n",
        "\n",
        "df_models_rfc = pd.DataFrame(d, index=[0])"
      ]
    },
    {
      "cell_type": "code",
      "execution_count": null,
      "metadata": {
        "id": "-ly-12daDgZZ",
        "outputId": "2640745f-98e9-4c1d-bac3-277b1981161b"
      },
      "outputs": [
        {
          "data": {
            "text/html": [
              "<div>\n",
              "<style scoped>\n",
              "    .dataframe tbody tr th:only-of-type {\n",
              "        vertical-align: middle;\n",
              "    }\n",
              "\n",
              "    .dataframe tbody tr th {\n",
              "        vertical-align: top;\n",
              "    }\n",
              "\n",
              "    .dataframe thead th {\n",
              "        text-align: right;\n",
              "    }\n",
              "</style>\n",
              "<table border=\"1\" class=\"dataframe\">\n",
              "  <thead>\n",
              "    <tr style=\"text-align: right;\">\n",
              "      <th></th>\n",
              "      <th>Model</th>\n",
              "      <th>Training Set Accuracy</th>\n",
              "      <th>Test Set Accuracy</th>\n",
              "    </tr>\n",
              "  </thead>\n",
              "  <tbody>\n",
              "    <tr>\n",
              "      <th>0</th>\n",
              "      <td>Random Forest</td>\n",
              "      <td>0.95003</td>\n",
              "      <td>0.905085</td>\n",
              "    </tr>\n",
              "  </tbody>\n",
              "</table>\n",
              "</div>"
            ],
            "text/plain": [
              "           Model  Training Set Accuracy  Test Set Accuracy\n",
              "0  Random Forest                0.95003           0.905085"
            ]
          },
          "execution_count": 60,
          "metadata": {},
          "output_type": "execute_result"
        }
      ],
      "source": [
        "df_models_rfc"
      ]
    },
    {
      "cell_type": "markdown",
      "metadata": {
        "id": "B0QMGcS-DgZa"
      },
      "source": [
        "Let's save the model and this dataset:"
      ]
    },
    {
      "cell_type": "code",
      "execution_count": null,
      "metadata": {
        "id": "oUYi0fUQDgZa"
      },
      "outputs": [],
      "source": [
        "with open('C:\\\\Users\\\\Sanjana Ashtaputre\\\\Downloads//best_rfc.pickle', 'wb') as output:\n",
        "    pickle.dump(best_rfc, output)\n",
        "\n",
        "with open('C:\\\\Users\\\\Sanjana Ashtaputre\\\\Downloads//df_models_rfc.pickle', 'wb') as output:\n",
        "    pickle.dump(df_models_rfc, output)"
      ]
    },
    {
      "cell_type": "code",
      "execution_count": null,
      "metadata": {
        "id": "CePvJgZfDgZa"
      },
      "outputs": [],
      "source": [
        "from sklearn.feature_extraction.text import CountVectorizer\n",
        "count_vect = CountVectorizer()"
      ]
    },
    {
      "cell_type": "markdown",
      "metadata": {
        "id": "vB_1KJtoDgZc"
      },
      "source": [
        "....................................................."
      ]
    },
    {
      "cell_type": "code",
      "execution_count": null,
      "metadata": {
        "id": "e7gpQOEZDgZc"
      },
      "outputs": [],
      "source": [
        "import pandas as pd\n",
        "df = pd.read_csv('sms_manual.csv')"
      ]
    },
    {
      "cell_type": "code",
      "execution_count": null,
      "metadata": {
        "id": "-wz5HQXoDgZc",
        "outputId": "f9851db9-ee83-4bbd-c724-ca76c077e597"
      },
      "outputs": [
        {
          "data": {
            "text/html": [
              "<div>\n",
              "<style scoped>\n",
              "    .dataframe tbody tr th:only-of-type {\n",
              "        vertical-align: middle;\n",
              "    }\n",
              "\n",
              "    .dataframe tbody tr th {\n",
              "        vertical-align: top;\n",
              "    }\n",
              "\n",
              "    .dataframe thead th {\n",
              "        text-align: right;\n",
              "    }\n",
              "</style>\n",
              "<table border=\"1\" class=\"dataframe\">\n",
              "  <thead>\n",
              "    <tr style=\"text-align: right;\">\n",
              "      <th></th>\n",
              "      <th>Unnamed: 0</th>\n",
              "      <th>_address</th>\n",
              "      <th>_read</th>\n",
              "      <th>_sub_id</th>\n",
              "      <th>_readable_date</th>\n",
              "      <th>length</th>\n",
              "      <th>text</th>\n",
              "      <th>label</th>\n",
              "      <th>financial</th>\n",
              "      <th>important</th>\n",
              "      <th>spam</th>\n",
              "    </tr>\n",
              "  </thead>\n",
              "  <tbody>\n",
              "    <tr>\n",
              "      <th>0</th>\n",
              "      <td>0</td>\n",
              "      <td>+918310733183</td>\n",
              "      <td>1</td>\n",
              "      <td>1</td>\n",
              "      <td>Oct 26, 2017 9:19:28 PM</td>\n",
              "      <td>146</td>\n",
              "      <td>You 1 missed call   918310733183 Last call  26...</td>\n",
              "      <td>others</td>\n",
              "      <td>0</td>\n",
              "      <td>0</td>\n",
              "      <td>0</td>\n",
              "    </tr>\n",
              "    <tr>\n",
              "      <th>1</th>\n",
              "      <td>1</td>\n",
              "      <td>59039004</td>\n",
              "      <td>1</td>\n",
              "      <td>1</td>\n",
              "      <td>Oct 26, 2017 9:40:52 PM</td>\n",
              "      <td>99</td>\n",
              "      <td>WhatsApp code 397564  You also tap link verify...</td>\n",
              "      <td>important</td>\n",
              "      <td>0</td>\n",
              "      <td>1</td>\n",
              "      <td>0</td>\n",
              "    </tr>\n",
              "    <tr>\n",
              "      <th>2</th>\n",
              "      <td>2</td>\n",
              "      <td>Airtel</td>\n",
              "      <td>1</td>\n",
              "      <td>1</td>\n",
              "      <td>Oct 26, 2017 10:33:28 PM</td>\n",
              "      <td>190</td>\n",
              "      <td>Please open following link get manual instruct...</td>\n",
              "      <td>spam</td>\n",
              "      <td>0</td>\n",
              "      <td>0</td>\n",
              "      <td>1</td>\n",
              "    </tr>\n",
              "    <tr>\n",
              "      <th>3</th>\n",
              "      <td>3</td>\n",
              "      <td>Airtel</td>\n",
              "      <td>1</td>\n",
              "      <td>1</td>\n",
              "      <td>Oct 26, 2017 10:33:45 PM</td>\n",
              "      <td>334</td>\n",
              "      <td>To enjoy fastest Airtel data speeds smartphone...</td>\n",
              "      <td>important</td>\n",
              "      <td>1</td>\n",
              "      <td>1</td>\n",
              "      <td>0</td>\n",
              "    </tr>\n",
              "    <tr>\n",
              "      <th>4</th>\n",
              "      <td>4</td>\n",
              "      <td>AX-RECHRG</td>\n",
              "      <td>1</td>\n",
              "      <td>1</td>\n",
              "      <td>Oct 27, 2017 6:17:18 AM</td>\n",
              "      <td>155</td>\n",
              "      <td>Congrats new 4G handset  Exclusive offer Rs399...</td>\n",
              "      <td>spam</td>\n",
              "      <td>1</td>\n",
              "      <td>0</td>\n",
              "      <td>1</td>\n",
              "    </tr>\n",
              "  </tbody>\n",
              "</table>\n",
              "</div>"
            ],
            "text/plain": [
              "   Unnamed: 0       _address  _read  _sub_id            _readable_date  \\\n",
              "0           0  +918310733183      1        1   Oct 26, 2017 9:19:28 PM   \n",
              "1           1       59039004      1        1   Oct 26, 2017 9:40:52 PM   \n",
              "2           2         Airtel      1        1  Oct 26, 2017 10:33:28 PM   \n",
              "3           3         Airtel      1        1  Oct 26, 2017 10:33:45 PM   \n",
              "4           4      AX-RECHRG      1        1   Oct 27, 2017 6:17:18 AM   \n",
              "\n",
              "   length                                               text      label  \\\n",
              "0     146  You 1 missed call   918310733183 Last call  26...     others   \n",
              "1      99  WhatsApp code 397564  You also tap link verify...  important   \n",
              "2     190  Please open following link get manual instruct...       spam   \n",
              "3     334  To enjoy fastest Airtel data speeds smartphone...  important   \n",
              "4     155  Congrats new 4G handset  Exclusive offer Rs399...       spam   \n",
              "\n",
              "   financial  important  spam  \n",
              "0          0          0     0  \n",
              "1          0          1     0  \n",
              "2          0          0     1  \n",
              "3          1          1     0  \n",
              "4          1          0     1  "
            ]
          },
          "execution_count": 128,
          "metadata": {},
          "output_type": "execute_result"
        }
      ],
      "source": [
        "df.drop(['_protocol','_date','_subject','_toa','_sc_toa','_status','_locked','_date_sent','_service_center','_type','_contact_name'],axis=1, inplace = True)\n",
        "df.head()"
      ]
    },
    {
      "cell_type": "code",
      "execution_count": null,
      "metadata": {
        "id": "KjraFAd8DgZc"
      },
      "outputs": [],
      "source": [
        "category_codes = {\n",
        "    'financial': 0,\n",
        "    'important': 1,\n",
        "    'spam': 2,\n",
        "    'others':3,\n",
        "}\n",
        "df['Category_Code'] = df['label']\n",
        "df = df.replace({'Category_Code':category_codes})"
      ]
    },
    {
      "cell_type": "code",
      "execution_count": null,
      "metadata": {
        "id": "mVZFZ7gkDgZc",
        "outputId": "52275e72-8dc1-4bd1-b70e-74d5615b8395"
      },
      "outputs": [
        {
          "data": {
            "text/html": [
              "<div>\n",
              "<style scoped>\n",
              "    .dataframe tbody tr th:only-of-type {\n",
              "        vertical-align: middle;\n",
              "    }\n",
              "\n",
              "    .dataframe tbody tr th {\n",
              "        vertical-align: top;\n",
              "    }\n",
              "\n",
              "    .dataframe thead th {\n",
              "        text-align: right;\n",
              "    }\n",
              "</style>\n",
              "<table border=\"1\" class=\"dataframe\">\n",
              "  <thead>\n",
              "    <tr style=\"text-align: right;\">\n",
              "      <th></th>\n",
              "      <th>label</th>\n",
              "      <th>text</th>\n",
              "      <th>category_codes</th>\n",
              "    </tr>\n",
              "  </thead>\n",
              "  <tbody>\n",
              "    <tr>\n",
              "      <th>0</th>\n",
              "      <td>others</td>\n",
              "      <td>You 1 missed call   918310733183 Last call  26...</td>\n",
              "      <td>0</td>\n",
              "    </tr>\n",
              "    <tr>\n",
              "      <th>1</th>\n",
              "      <td>important</td>\n",
              "      <td>WhatsApp code 397564  You also tap link verify...</td>\n",
              "      <td>1</td>\n",
              "    </tr>\n",
              "    <tr>\n",
              "      <th>2</th>\n",
              "      <td>spam</td>\n",
              "      <td>Please open following link get manual instruct...</td>\n",
              "      <td>2</td>\n",
              "    </tr>\n",
              "    <tr>\n",
              "      <th>3</th>\n",
              "      <td>important</td>\n",
              "      <td>To enjoy fastest Airtel data speeds smartphone...</td>\n",
              "      <td>1</td>\n",
              "    </tr>\n",
              "    <tr>\n",
              "      <th>4</th>\n",
              "      <td>spam</td>\n",
              "      <td>Congrats new 4G handset  Exclusive offer Rs399...</td>\n",
              "      <td>2</td>\n",
              "    </tr>\n",
              "  </tbody>\n",
              "</table>\n",
              "</div>"
            ],
            "text/plain": [
              "       label                                               text  \\\n",
              "0     others  You 1 missed call   918310733183 Last call  26...   \n",
              "1  important  WhatsApp code 397564  You also tap link verify...   \n",
              "2       spam  Please open following link get manual instruct...   \n",
              "3  important  To enjoy fastest Airtel data speeds smartphone...   \n",
              "4       spam  Congrats new 4G handset  Exclusive offer Rs399...   \n",
              "\n",
              "   category_codes  \n",
              "0               0  \n",
              "1               1  \n",
              "2               2  \n",
              "3               1  \n",
              "4               2  "
            ]
          },
          "execution_count": 130,
          "metadata": {},
          "output_type": "execute_result"
        }
      ],
      "source": [
        "from io import StringIO\n",
        "col = ['label', 'text']\n",
        "df = df[col]\n",
        "df = df[pd.notnull(df['text'])]\n",
        "df.columns = ['label', 'text']\n",
        "df['category_codes'] = df['label'].factorize()[0]\n",
        "category_id_df = df[['label', 'category_codes']].drop_duplicates().sort_values('category_codes')\n",
        "category_to_id = dict(category_id_df.values)\n",
        "id_to_category = dict(category_id_df[['category_codes', 'label']].values)\n",
        "df.head()"
      ]
    },
    {
      "cell_type": "code",
      "execution_count": null,
      "metadata": {
        "id": "23Qqd_4FDgZc",
        "outputId": "cd448492-4d8e-4bbf-9ca9-f908de1f145d"
      },
      "outputs": [
        {
          "data": {
            "image/png": "[encoded data removed]",
            "text/plain": [
              "<Figure size 576x432 with 1 Axes>"
            ]
          },
          "metadata": {
            "needs_background": "light"
          },
          "output_type": "display_data"
        }
      ],
      "source": [
        "import matplotlib.pyplot as plt\n",
        "fig = plt.figure(figsize=(8,6))\n",
        "df.groupby('label').text.count().plot.bar(ylim=0)\n",
        "plt.show()"
      ]
    },
    {
      "cell_type": "code",
      "execution_count": null,
      "metadata": {
        "id": "CZ5GRd9TDgZd",
        "outputId": "5677339b-6bbe-4ed1-e711-2f6b9f86ca43"
      },
      "outputs": [
        {
          "data": {
            "text/plain": [
              "(7862, 4842)"
            ]
          },
          "execution_count": 132,
          "metadata": {},
          "output_type": "execute_result"
        }
      ],
      "source": [
        "from sklearn.feature_extraction.text import TfidfVectorizer\n",
        "tfidf = TfidfVectorizer(sublinear_tf=True, min_df=5, norm='l2', encoding='latin-1', ngram_range=(1, 2), stop_words='english')\n",
        "features = tfidf.fit_transform(df.text).toarray()\n",
        "labels = df.category_codes\n",
        "features.shape"
      ]
    },
    {
      "cell_type": "code",
      "execution_count": null,
      "metadata": {
        "id": "5TEwQn6VDgZd",
        "outputId": "35b18d7a-b69e-49cd-80dd-8b1b3fe61199"
      },
      "outputs": [
        {
          "name": "stdout",
          "output_type": "stream",
          "text": [
            "# 'spam':\n",
            "  . Most correlated unigrams:\n",
            ". ac\n",
            ". inr\n",
            "  . Most correlated bigrams:\n",
            ". avl bal\n",
            ". bal inr\n",
            "# 'spam':\n",
            "  . Most correlated unigrams:\n",
            ". code\n",
            ". otp\n",
            "  . Most correlated bigrams:\n",
            ". password otp\n",
            ". time password\n",
            "# 'spam':\n",
            "  . Most correlated unigrams:\n",
            ". ಟರ\n",
            ". ಜನ\n",
            "  . Most correlated bigrams:\n",
            ". available calls\n",
            ". dear customer\n",
            "# 'spam':\n",
            "  . Most correlated unigrams:\n",
            ". know\n",
            ". dial\n",
            "  . Most correlated bigrams:\n",
            ". balance validity\n",
            ". high speed\n"
          ]
        }
      ],
      "source": [
        "from sklearn.feature_selection import chi2\n",
        "import numpy as np\n",
        "N = 2\n",
        "for label, category_codes in sorted(category_to_id.items()):\n",
        "                                  features_chi2 = chi2(features, labels == category_codes)\n",
        "                                  indices = np.argsort(features_chi2[0])\n",
        "                                  feature_names = np.array(tfidf.get_feature_names())[indices]\n",
        "                                  unigrams = [v for v in feature_names if len(v.split(' ')) == 1]\n",
        "                                  bigrams = [v for v in feature_names if len(v.split(' ')) == 2]\n",
        "                                  print(\"# '{}':\".format(Product))\n",
        "                                  print(\"  . Most correlated unigrams:\\n. {}\".format('\\n. '.join(unigrams[-N:])))\n",
        "                                  print(\"  . Most correlated bigrams:\\n. {}\".format('\\n. '.join(bigrams[-N:])))"
      ]
    },
    {
      "cell_type": "code",
      "execution_count": null,
      "metadata": {
        "id": "pBwQl29-DgZd"
      },
      "outputs": [],
      "source": [
        "from sklearn.model_selection import train_test_split\n",
        "from sklearn.feature_extraction.text import CountVectorizer\n",
        "from sklearn.feature_extraction.text import TfidfTransformer\n",
        "from sklearn.naive_bayes import MultinomialNB\n",
        "X_train, X_test, y_train, y_test = train_test_split(df['text'], df['label'], random_state = 0)\n",
        "count_vect = CountVectorizer()\n",
        "X_train_counts = count_vect.fit_transform(X_train)\n",
        "tfidf_transformer = TfidfTransformer()\n",
        "X_train_tfidf = tfidf_transformer.fit_transform(X_train_counts)\n",
        "clf = MultinomialNB().fit(X_train_tfidf, y_train)"
      ]
    },
    {
      "cell_type": "code",
      "execution_count": null,
      "metadata": {
        "id": "ULJ0JW2tDgZd",
        "outputId": "88994aef-3372-4002-d4bc-b26bac87218f"
      },
      "outputs": [
        {
          "name": "stdout",
          "output_type": "stream",
          "text": [
            "['financial']\n",
            "['important']\n",
            "['others']\n",
            "['spam']\n",
            "['financial']\n"
          ]
        }
      ],
      "source": [
        "print(clf.predict(count_vect.transform([\"SYN INR 4000 debited AC No  5690 02022018 1640for POS txn 00218923470000000218923PAYTM Avl Bal1889085  Helpline 18004250585\"])))\n",
        "print(clf.predict(count_vect.transform([\"Your One Time Password  OTP  Syndicate Bank online transaction 9862  Do disclose one\"])))\n",
        "print(clf.predict(count_vect.transform([\"Hi how are you?\"])))\n",
        "print(clf.predict(count_vect.transform([\"Book OYO minimum 35  Bangalore  Grab deal  View offer  wwwgsims  MK4pNiWu9Uw Call 7065444454 STOP  T  C\"])))\n",
        "print(clf.predict(count_vect.transform([\"inr 500 debited yo account\"])))"
      ]
    },
    {
      "cell_type": "code",
      "execution_count": null,
      "metadata": {
        "id": "tG1677obDgZe",
        "outputId": "ef390df4-6045-484d-e97c-e7f7251a01d2"
      },
      "outputs": [
        {
          "name": "stderr",
          "output_type": "stream",
          "text": [
            "C:\\Users\\Sanjana Ashtaputre\\Anaconda3\\lib\\site-packages\\sklearn\\linear_model\\logistic.py:433: FutureWarning: Default solver will be changed to 'lbfgs' in 0.22. Specify a solver to silence this warning.\n",
            "  FutureWarning)\n",
            "C:\\Users\\Sanjana Ashtaputre\\Anaconda3\\lib\\site-packages\\sklearn\\linear_model\\logistic.py:460: FutureWarning: Default multi_class will be changed to 'auto' in 0.22. Specify the multi_class option to silence this warning.\n",
            "  \"this warning.\", FutureWarning)\n",
            "C:\\Users\\Sanjana Ashtaputre\\Anaconda3\\lib\\site-packages\\sklearn\\linear_model\\logistic.py:433: FutureWarning: Default solver will be changed to 'lbfgs' in 0.22. Specify a solver to silence this warning.\n",
            "  FutureWarning)\n",
            "C:\\Users\\Sanjana Ashtaputre\\Anaconda3\\lib\\site-packages\\sklearn\\linear_model\\logistic.py:460: FutureWarning: Default multi_class will be changed to 'auto' in 0.22. Specify the multi_class option to silence this warning.\n",
            "  \"this warning.\", FutureWarning)\n",
            "C:\\Users\\Sanjana Ashtaputre\\Anaconda3\\lib\\site-packages\\sklearn\\linear_model\\logistic.py:433: FutureWarning: Default solver will be changed to 'lbfgs' in 0.22. Specify a solver to silence this warning.\n",
            "  FutureWarning)\n",
            "C:\\Users\\Sanjana Ashtaputre\\Anaconda3\\lib\\site-packages\\sklearn\\linear_model\\logistic.py:460: FutureWarning: Default multi_class will be changed to 'auto' in 0.22. Specify the multi_class option to silence this warning.\n",
            "  \"this warning.\", FutureWarning)\n",
            "C:\\Users\\Sanjana Ashtaputre\\Anaconda3\\lib\\site-packages\\sklearn\\linear_model\\logistic.py:433: FutureWarning: Default solver will be changed to 'lbfgs' in 0.22. Specify a solver to silence this warning.\n",
            "  FutureWarning)\n",
            "C:\\Users\\Sanjana Ashtaputre\\Anaconda3\\lib\\site-packages\\sklearn\\linear_model\\logistic.py:460: FutureWarning: Default multi_class will be changed to 'auto' in 0.22. Specify the multi_class option to silence this warning.\n",
            "  \"this warning.\", FutureWarning)\n",
            "C:\\Users\\Sanjana Ashtaputre\\Anaconda3\\lib\\site-packages\\sklearn\\linear_model\\logistic.py:433: FutureWarning: Default solver will be changed to 'lbfgs' in 0.22. Specify a solver to silence this warning.\n",
            "  FutureWarning)\n",
            "C:\\Users\\Sanjana Ashtaputre\\Anaconda3\\lib\\site-packages\\sklearn\\linear_model\\logistic.py:460: FutureWarning: Default multi_class will be changed to 'auto' in 0.22. Specify the multi_class option to silence this warning.\n",
            "  \"this warning.\", FutureWarning)\n"
          ]
        },
        {
          "data": {
            "image/png": "[encoded data removed]",
            "text/plain": [
              "<Figure size 432x288 with 1 Axes>"
            ]
          },
          "metadata": {
            "needs_background": "light"
          },
          "output_type": "display_data"
        }
      ],
      "source": [
        "from sklearn.linear_model import LogisticRegression\n",
        "from sklearn.ensemble import RandomForestClassifier\n",
        "from sklearn.svm import LinearSVC\n",
        "from sklearn.model_selection import cross_val_score\n",
        "models = [\n",
        "    LinearSVC(),\n",
        "    MultinomialNB(),\n",
        "    LogisticRegression(random_state=0),\n",
        "]\n",
        "CV = 5\n",
        "cv_df = pd.DataFrame(index=range(CV * len(models)))\n",
        "entries = []\n",
        "for model in models:\n",
        "    model_name = model.__class__.__name__\n",
        "    accuracies = cross_val_score(model, features, labels, scoring='accuracy', cv=CV)\n",
        "    for fold_idx, accuracy in enumerate(accuracies):\n",
        "        entries.append((model_name, fold_idx, accuracy))\n",
        "cv_df = pd.DataFrame(entries, columns=['model_name', 'fold_idx', 'accuracy'])\n",
        "import seaborn as sns\n",
        "sns.boxplot(x='model_name', y='accuracy', data=cv_df)\n",
        "sns.stripplot(x='model_name', y='accuracy', data=cv_df,\n",
        "              size=8, jitter=True, edgecolor=\"gray\", linewidth=2)\n",
        "plt.show()"
      ]
    },
    {
      "cell_type": "code",
      "execution_count": null,
      "metadata": {
        "id": "9gmQkK_nDgZe",
        "outputId": "101d7544-a218-4f30-c4c6-3dba4670633a"
      },
      "outputs": [
        {
          "data": {
            "text/plain": [
              "model_name\n",
              "LinearSVC             0.904883\n",
              "LogisticRegression    0.867234\n",
              "MultinomialNB         0.798811\n",
              "Name: accuracy, dtype: float64"
            ]
          },
          "execution_count": 138,
          "metadata": {},
          "output_type": "execute_result"
        }
      ],
      "source": [
        "cv_df.groupby('model_name').accuracy.mean()"
      ]
    },
    {
      "cell_type": "code",
      "execution_count": null,
      "metadata": {
        "id": "wZgRnUjEDgZe",
        "outputId": "f6908503-762e-4c3d-b582-bdeeca4c6163"
      },
      "outputs": [
        {
          "data": {
            "image/png": "[encoded data removed]",
            "text/plain": [
              "<Figure size 720x720 with 2 Axes>"
            ]
          },
          "metadata": {
            "needs_background": "light"
          },
          "output_type": "display_data"
        }
      ],
      "source": [
        "model = LinearSVC()\n",
        "X_train, X_test, y_train, y_test, indices_train, indices_test = train_test_split(features, labels, df.index, test_size=0.33, random_state=0)\n",
        "model.fit(X_train, y_train)\n",
        "y_pred = model.predict(X_test)\n",
        "from sklearn.metrics import confusion_matrix\n",
        "conf_mat = confusion_matrix(y_test, y_pred)\n",
        "fig, ax = plt.subplots(figsize=(10,10))\n",
        "sns.heatmap(conf_mat, annot=True, fmt='d',\n",
        "            xticklabels=category_id_df.label.values, yticklabels=category_id_df.label.values)\n",
        "plt.ylabel('Actual')\n",
        "plt.xlabel('Predicted')\n",
        "plt.show()"
      ]
    },
    {
      "cell_type": "code",
      "execution_count": null,
      "metadata": {
        "id": "XnT1zZMtDgZf",
        "outputId": "044aad95-b46e-4a80-ac40-fbf8a2c35f05"
      },
      "outputs": [
        {
          "name": "stdout",
          "output_type": "stream",
          "text": [
            "              precision    recall  f1-score   support\n",
            "\n",
            "      others       0.89      0.95      0.92       566\n",
            "   important       0.97      0.97      0.97       220\n",
            "        spam       0.99      0.95      0.97       549\n",
            "   financial       0.96      0.95      0.95      1260\n",
            "\n",
            "   micro avg       0.95      0.95      0.95      2595\n",
            "   macro avg       0.95      0.95      0.95      2595\n",
            "weighted avg       0.95      0.95      0.95      2595\n",
            "\n"
          ]
        }
      ],
      "source": [
        "from sklearn import metrics\n",
        "print(metrics.classification_report(y_test, y_pred, target_names=df['label'].unique()))"
      ]
    },
    {
      "cell_type": "code",
      "execution_count": null,
      "metadata": {
        "id": "D23WTAN9DgZf",
        "outputId": "b20c0fd4-07e6-4225-901c-407948bb8bdd"
      },
      "outputs": [
        {
          "name": "stdout",
          "output_type": "stream",
          "text": [
            "['financial']\n",
            "['important']\n",
            "['others']\n",
            "['spam']\n",
            "['financial']\n"
          ]
        }
      ],
      "source": [
        "print(clf.predict(count_vect.transform([\"SYN INR 4000 debited AC No  5690 02022018 1640for POS txn 00218923470000000218923PAYTM Avl Bal1889085  Helpline 18004250585\"])))\n",
        "print(clf.predict(count_vect.transform([\"Your One Time Password  OTP  Syndicate Bank online transaction 9862  Do disclose one\"])))\n",
        "print(clf.predict(count_vect.transform([\"Hi how are you?\"])))\n",
        "print(clf.predict(count_vect.transform([\"Book OYO minimum 35  Bangalore  Grab deal  View offer  wwwgsims  MK4pNiWu9Uw Call 7065444454 STOP  T  C\"])))\n",
        "print(clf.predict(count_vect.transform([\"inr 500 debited yo account\"])))"
      ]
    },
    {
      "cell_type": "code",
      "execution_count": null,
      "metadata": {
        "id": "0wnRkNGwDgZf"
      },
      "outputs": [],
      "source": []
    }
  ],
  "metadata": {
    "kernelspec": {
      "display_name": "Python 3",
      "language": "python",
      "name": "python3"
    },
    "language_info": {
      "codemirror_mode": {
        "name": "ipython",
        "version": 3
      },
      "file_extension": ".py",
      "mimetype": "text/x-python",
      "name": "python",
      "nbconvert_exporter": "python",
      "pygments_lexer": "ipython3",
      "version": "3.7.3"
    },
    "colab": {
      "provenance": []
    }
  },
  "nbformat": 4,
  "nbformat_minor": 0
}